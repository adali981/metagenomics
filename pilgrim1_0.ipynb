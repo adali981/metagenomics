{
  "nbformat": 4,
  "nbformat_minor": 0,
  "metadata": {
    "colab": {
      "name": "pilgrim1.0.ipynb",
      "version": "0.3.2",
      "provenance": [],
      "include_colab_link": true
    },
    "kernelspec": {
      "name": "python3",
      "display_name": "Python 3"
    }
  },
  "cells": [
    {
      "cell_type": "markdown",
      "metadata": {
        "id": "view-in-github",
        "colab_type": "text"
      },
      "source": [
        "<a href=\"https://colab.research.google.com/github/adali981/metagenomics/blob/master/pilgrim1_0.ipynb\" target=\"_parent\"><img src=\"https://colab.research.google.com/assets/colab-badge.svg\" alt=\"Open In Colab\"/></a>"
      ]
    },
    {
      "cell_type": "code",
      "metadata": {
        "id": "xAXOHd6tUOBw",
        "colab_type": "code",
        "colab": {}
      },
      "source": [
        "mkdir /home/anna/pubwork/games_bio/water_project"
      ],
      "execution_count": 0,
      "outputs": []
    },
    {
      "cell_type": "markdown",
      "metadata": {
        "id": "xAWBN8k1USXA",
        "colab_type": "text"
      },
      "source": [
        "generate\n",
        "Dataset_pilgrim1.0 : \n",
        "\n",
        "1.    chemical variables (Dati_chimici)\n",
        "2.     Generi (taxonomy distribution) : piking colonies\n",
        "3.     gallerie_api:  for each genus api metabolites\n",
        "\n",
        "Question\n",
        "\n",
        "Stima della carica batterica : qual'è il miglior estimatore della carica batterica?\n",
        "\n",
        "Da capire tra 4 estimatori\n",
        "\n",
        "1.   carica batterica (sep-less-all)\n",
        "2.   CFU a 2 giorni (37 o 22)\n",
        "3.   CFU a 7 giorni (37 o 22)\n",
        "4.   Citometria (vivi-danneggiati-ratio)\n",
        "\n",
        "\n",
        "\n",
        "Esiste la località o ci sono sottolivelli? o l'effetto maggiore è data dal type/sample_type?\n",
        "\n",
        "la località (è possibile discriminare la località date le variabili chimiche?) ha un effetto?\n",
        "\n",
        "\n",
        "                                         \n",
        "                                           "
      ]
    },
    {
      "cell_type": "code",
      "metadata": {
        "id": "YF8GpAbv04TL",
        "colab_type": "code",
        "colab": {}
      },
      "source": [
        "library(\"vegan\")\n",
        "library(\"labdsv\")"
      ],
      "execution_count": 0,
      "outputs": []
    },
    {
      "cell_type": "markdown",
      "metadata": {
        "id": "Jx8pfDM7UjEC",
        "colab_type": "text"
      },
      "source": [
        "##import QIIME2 Generi Tab\n",
        "\n",
        "From Generi Tab in Dataset_pilgrim1.0  in Drive folder create "
      ]
    }
  ]
}