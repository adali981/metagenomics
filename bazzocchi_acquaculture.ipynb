{
  "nbformat": 4,
  "nbformat_minor": 0,
  "metadata": {
    "colab": {
      "name": "bazzocchi_acquaculture.ipynb",
      "provenance": [],
      "include_colab_link": true
    },
    "kernelspec": {
      "name": "python3",
      "display_name": "Python 3"
    }
  },
  "cells": [
    {
      "cell_type": "markdown",
      "metadata": {
        "id": "view-in-github",
        "colab_type": "text"
      },
      "source": [
        "<a href=\"https://colab.research.google.com/github/adali981/metagenomics/blob/master/bazzocchi_acquaculture.ipynb\" target=\"_parent\"><img src=\"https://colab.research.google.com/assets/colab-badge.svg\" alt=\"Open In Colab\"/></a>"
      ]
    },
    {
      "cell_type": "code",
      "metadata": {
        "id": "OMf86mMKLLkt",
        "colab_type": "code",
        "colab": {}
      },
      "source": [
        "in DRIVE: /Lavoro/Aquaculture_big/Bazzocchi_fish\n",
        "\n",
        "\n",
        "qiime tools import \\\n",
        "  --type 'SampleData[PairedEndSequencesWithQuality]' \\\n",
        "  --input-path ~/storage/Proj_1008_16S/raw_file_Pr1008/bazzocchi_raw \\\n",
        "  --input-format CasavaOneEightSingleLanePerSampleDirFmt \\\n",
        "  --output-path Baz_acult.qza\n",
        "\n",
        "qiime demux summarize \\\n",
        " --i-data Baz_acult.qza \\\n",
        " --o-visualization demux_Baz_acult.qzv\n",
        "\n",
        " qiime cutadapt trim-paired  \\\n",
        "    --i-demultiplexed-sequences Baz_acult.qza \\\n",
        "    --p-cores 12 \\\n",
        "    --p-front-f CCTACGGGNGGCWGCAG \\\n",
        "    --p-front-r GACTACHVGGGTATCTAATCC \\\n",
        "    --verbose \\\n",
        "    --p-discard-untrimmed \\\n",
        "    --o-trimmed-sequences Baz_acult_np.qza\n",
        "\n",
        "qiime dada2 denoise-paired \\\n",
        "  --i-demultiplexed-seqs Baz_acult.qza \\\n",
        "  --p-trim-left-f 17 \\\n",
        "  --p-trim-left-r 21 \\\n",
        "  --p-trunc-len-f 280 \\\n",
        "  --p-trunc-len-r 240 \\\n",
        "  --p-n-threads 14 \\\n",
        "  --o-table table_baz_acult.qza \\\n",
        "  --o-representative-sequences rep-seqs_baz_acult.qza \\\n",
        "  --o-denoising-stats denoising-stats_baz_acult.qza\\\n",
        "  --verbose\n",
        "\n",
        "\n",
        "\n",
        "1) Filtering The filter removed all reads: /tmp/tmpe2gw9c1p/filt_f/Bianco_3EXT_S41_L001_R1_001.fastq.gz and /tmp/tmpe2gw9c1p/filt_r/Bianco_3EXT_S41_L001_R2_001.fastq.gz not written.\n",
        "The filter removed all reads: /tmp/tmpe2gw9c1p/filt_f/TA_C_UP_3_RplusI_045minus022_S47_L001_R1_001.fastq.gz and /tmp/tmpe2gw9c1p/filt_r/TA_C_UP_3_RplusI_045minus022_S47_L001_R2_001.fastq.gz not written.\n",
        "The filter removed all reads: /tmp/tmpe2gw9c1p/filt_f/WE_1_3_S42_L001_R1_001.fastq.gz and /tmp/tmpe2gw9c1p/filt_r/WE_1_3_S42_L001_R2_001.fastq.gz not written.\n",
        "The filter removed all reads: /tmp/tmpe2gw9c1p/filt_f/WE_1_045minus022_S43_L001_R1_001.fastq.gz and /tmp/tmpe2gw9c1p/filt_r/WE_1_045minus022_S43_L001_R2_001.fastq.gz not written.\n",
        "The filter removed all reads: /tmp/tmpe2gw9c1p/filt_f/TA_OUT_2_045minus022_S45_L001_R1_001.fastq.gz and /tmp/tmpe2gw9c1p/filt_r/TA_OUT_2_045minus022_S45_L001_R2_001.fastq.gz not written.\n",
        "Some input samples had no reads pass the filter.\n",
        "\n",
        "\n",
        "\n",
        "qiime feature-table summarize  \\\n",
        "  --m-sample-metadata-file baz_acult_map.tsv\\\n",
        "  --i-table table_baz_acult.qza \\\n",
        "  --o-visualization table_baz_acult.qzv "
      ],
      "execution_count": 0,
      "outputs": []
    },
    {
      "cell_type": "code",
      "metadata": {
        "id": "nG7J3KbNa6cO",
        "colab_type": "code",
        "colab": {}
      },
      "source": [
        "export TMPDIR=/home/zooplantlab/tmp\n",
        "qiime feature-classifier classify-consensus-vsearch \\\n",
        "\t--i-query rep-seqs_baz_acult.qza \\\n",
        "\t--i-reference-reads ~/DB_ref/silva_132_99_16S.qza \\\n",
        "\t--i-reference-taxonomy ~/DB_ref/taxonomy_7_levels.qza \\\n",
        "\t--p-threads 14 \\\n",
        "  --verbose \\\n",
        "\t--o-classification taxonomy_baz_acult.qza\n",
        "\n",
        "qiime taxa barplot \\\n",
        "  --i-table table_baz_acult.qza \\\n",
        "  --i-taxonomy taxonomy_baz_acult.qza \\\n",
        "  --m-metadata-file  baz_acult_map.tsv \\\n",
        "  --o-visualization taxa-bar-plots_baz_acult.qzv\n",
        "\n",
        "qiime metadata tabulate \\\n",
        "  --m-input-file taxonomy_baz_acult.qza  \\\n",
        "  --m-input-file rep-seqs_baz_acult.qza  \\\n",
        "  --o-visualization annotated_rep-set_baz_acult.qzv"
      ],
      "execution_count": 0,
      "outputs": []
    },
    {
      "cell_type": "code",
      "metadata": {
        "id": "OxbMLo-GjIwS",
        "colab_type": "code",
        "colab": {}
      },
      "source": [
        "qiime phylogeny align-to-tree-mafft-fasttree \\\n",
        "  --i-sequences rep-seqs_baz_acult.qza \\\n",
        "  --o-alignment aligned-rep-seqs_baz_acult.qza \\\n",
        "  --o-masked-alignment masked-aligned-rep-seqs_baz_acult.qza \\\n",
        "  --o-tree unrooted-tree_baz_acult.qza \\\n",
        "  --o-rooted-tree rooted-tree_baz_acult.qza"
      ],
      "execution_count": 0,
      "outputs": []
    },
    {
      "cell_type": "code",
      "metadata": {
        "id": "qHv7Tu5xnKeE",
        "colab_type": "code",
        "colab": {}
      },
      "source": [
        "qiime diversity core-metrics-phylogenetic \\\n",
        "  --i-phylogeny rooted-tree_baz_acult.qza \\\n",
        "  --i-table table_baz_acult.qza\\\n",
        "  --p-sampling-depth 10000 \\\n",
        "  --m-metadata-file baz_acult_map.tsv \\\n",
        "  --output-dir core-metrics-results_phylo_baz_acult"
      ],
      "execution_count": 0,
      "outputs": []
    }
  ]
}