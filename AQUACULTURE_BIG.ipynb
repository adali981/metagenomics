{
  "nbformat": 4,
  "nbformat_minor": 0,
  "metadata": {
    "colab": {
      "name": "AQUACULTURE_BIG.ipynb",
      "provenance": [],
      "collapsed_sections": [],
      "toc_visible": true,
      "include_colab_link": true
    },
    "kernelspec": {
      "name": "python3",
      "display_name": "Python 3"
    }
  },
  "cells": [
    {
      "cell_type": "markdown",
      "metadata": {
        "id": "view-in-github",
        "colab_type": "text"
      },
      "source": [
        "<a href=\"https://colab.research.google.com/github/adali981/metagenomics/blob/master/AQUACULTURE_BIG.ipynb\" target=\"_parent\"><img src=\"https://colab.research.google.com/assets/colab-badge.svg\" alt=\"Open In Colab\"/></a>"
      ]
    },
    {
      "cell_type": "markdown",
      "metadata": {
        "id": "6dU83TrZ2X3W",
        "colab_type": "text"
      },
      "source": [
        "path files ws: \n",
        "\n",
        "\n",
        "*   AGER Project:\n",
        "        BMR: /home/zpl/storage/anto_aquaculture/Ager_bmr_analysis\n",
        "        ANTO (Hermetia/Nanoplastics): /home/zpl/storage/AntoniaB_1128_16S/raw\n",
        "        ANTO (Tenebrio/Tanzania): /home/zpl/storage/anto_aquaculture/190204_M00571_0367_000000000-C92CJ/Project_AntoniaB_871_16S_ZPL-FEM\n",
        "*   BAZZOCCHI Project:\n",
        "        /home/zpl/storage/Proj_1008_16S/raw_file_Pr1008/bazzocchi_raw\n",
        "*   MYSUSHI Project:\n",
        "        /home/zpl/storage/mysushi_bioinfo/152253\n",
        "\n",
        "\\\\\n",
        "\\\n",
        "path files drive:\n",
        "\n",
        "\n",
        "*   AGER Project:\n",
        "        Ager_bioinfo / Ager_BMR\n",
        "*   BAZZOCCHI Project:\n",
        "        Bazzocchi_fish\n",
        "*   MYSUSHI Project:\n",
        "        mysushi_bioinfo\n",
        "\n"
      ]
    },
    {
      "cell_type": "markdown",
      "metadata": {
        "id": "OLhsAP40kSdO",
        "colab_type": "text"
      },
      "source": [
        "SILVA 138 \\\n",
        "SILVA_138_SSURef_NR99_tax_silva.fasta file (510,985 sequence)\n",
        "\n",
        "pwd: ~/storage/SILVA_138"
      ]
    },
    {
      "cell_type": "code",
      "metadata": {
        "id": "J70H4kqdlUVb",
        "colab_type": "code",
        "colab": {}
      },
      "source": [
        "## clean\n",
        "\n",
        "awk '/^>/{print s? s\"\\n\"$0:$0;s=\"\";next}{s=s sprintf(\"%s\",$0)}END{if(s)print s}' SILVA_138_SSURef_NR99_tax_silva.fasta > SILVA_138_SSURef_NR99_tax_silva_OL.fasta\n",
        "\n",
        "grep -A 1 'Bacteria;' SILVA_138_SSURef_NR99_tax_silva_OL.fasta > Bacteria_SILVA_138_SSURef_NR99_tax_silva_OL.fasta\n",
        "\n",
        "sed -i '/--/d' Bacteria_SILVA_138_SSURef_NR99_tax_silva_OL.fasta\n",
        "\n",
        "grep 'Bacteria;' headers_SILVA_138_SSURef_NR99.txt > headers_bacteria_SILVA_138_SSURef_NR99.txt\n",
        "\n",
        "# 432033\n",
        "\n",
        "sed 's/>//' headers_bacteria_SILVA_138_SSURef_NR99.txt > Bacteria_tax_SILVA_138_SSURef_NR99.txt\n",
        "\n",
        "sed 's/ Bacteria;/\\tBacteria;/' Bacteria_tax_SILVA_138_SSURef_NR99.txt > Bacteria_tax_SILVA_138_SSURef_NR99_mod.txt"
      ],
      "execution_count": 0,
      "outputs": []
    },
    {
      "cell_type": "code",
      "metadata": {
        "id": "HDsGmTTZlwNg",
        "colab_type": "code",
        "colab": {}
      },
      "source": [
        "# import in qza\n",
        "\n",
        "qiime tools import \\\n",
        "  --type 'FeatureData[Sequence]' \\\n",
        "  --input-path Bacteria_SILVA_138_SSURef_NR99_tax_silva_OL.fasta \\\n",
        "  --output-path Bacteria_SILVA_138_SSURef_NR99.qza\n",
        "\n",
        "qiime tools import \\\n",
        "  --type 'FeatureData[Taxonomy]' \\\n",
        "  --input-format HeaderlessTSVTaxonomyFormat \\\n",
        "  --input-path Bacteria_tax_SILVA_138_SSURef_NR99_mod.txt \\\n",
        "  --output-path Bacteria_taxonomy_SILVA_138_SSURef_NR99.qza"
      ],
      "execution_count": 0,
      "outputs": []
    },
    {
      "cell_type": "markdown",
      "metadata": {
        "id": "5OdSdfAR569z",
        "colab_type": "text"
      },
      "source": [
        "# AGER"
      ]
    },
    {
      "cell_type": "markdown",
      "metadata": {
        "id": "HJQz2gx1yNFo",
        "colab_type": "text"
      },
      "source": [
        "## BMR"
      ]
    },
    {
      "cell_type": "code",
      "metadata": {
        "id": "V2c8DMoWuGkv",
        "colab_type": "code",
        "colab": {}
      },
      "source": [
        "# import data\n",
        "\n",
        "qiime tools import \\\n",
        "  --type 'SampleData[PairedEndSequencesWithQuality]' \\\n",
        "  --input-path Ager_bmr \\\n",
        "  --input-format CasavaOneEightSingleLanePerSampleDirFmt \\\n",
        "  --output-path ager_bmr.qza\n",
        "\n",
        "\n",
        "# visualize (#10000 default value)\n",
        "\n",
        "qiime demux summarize \\\n",
        "  --i-data ager_bmr.qza \\\n",
        "  --p-n 8000 \\\n",
        "  --o-visualization ager_bmr.qzv"
      ],
      "execution_count": 0,
      "outputs": []
    },
    {
      "cell_type": "markdown",
      "metadata": {
        "id": "Tj5g6Flsw-6z",
        "colab_type": "text"
      },
      "source": [
        "Minimum:\t31730 \\\n",
        "Median:\t79942.0 \\\n",
        "Mean:\t84228.375 \\\n",
        "Maximum:\t159878 \\\n",
        "Total:\t4042962"
      ]
    },
    {
      "cell_type": "code",
      "metadata": {
        "id": "aNJ2H4SozY07",
        "colab_type": "code",
        "colab": {}
      },
      "source": [
        "# remove primers\n",
        "\n",
        "qiime cutadapt trim-paired  \\\n",
        "    --i-demultiplexed-sequences ager_bmr.qza \\\n",
        "    --p-cores 10 \\\n",
        "    --p-front-f CCTACGGGNGGCWGCAG \\\n",
        "    --p-front-r GACTACHVGGGTATCTAATCC \\\n",
        "    --verbose \\\n",
        "    --p-discard-untrimmed \\\n",
        "    --o-trimmed-sequences ager_bmr_trimmed.qza\n",
        "\n",
        "\n",
        "# visualize\n",
        "\n",
        "qiime demux summarize \\\n",
        "  --i-data ager_bmr_trimmed.qza \\\n",
        "  --o-visualization ager_bmr_trimmed.qzv\n",
        "\n",
        "\n",
        "# remove primers (b)\n",
        "\n",
        "qiime cutadapt trim-paired  \\\n",
        "    --i-demultiplexed-sequences ager_bmr.qza \\\n",
        "    --p-cores 10 \\\n",
        "    --p-front-f CCTACGGGNGGCWGCAG \\\n",
        "    --p-front-r GACTACHVGGGTATCTAATCC \\\n",
        "    --p-error-rate 0.2 \\\n",
        "    --p-discard-untrimmed \\\n",
        "    --o-trimmed-sequences ager_bmr_trimmed_b.qza\n",
        "\n",
        "# visualize\n",
        "\n",
        "qiime demux summarize \\\n",
        "  --i-data ager_bmr_trimmed_b.qza \\\n",
        "  --o-visualization ager_bmr_trimmed_b.qzv"
      ],
      "execution_count": 0,
      "outputs": []
    },
    {
      "cell_type": "code",
      "metadata": {
        "id": "WxjKB21Kzb4c",
        "colab_type": "code",
        "colab": {}
      },
      "source": [
        "# dada2\n",
        "\n",
        "qiime dada2 denoise-paired \\\n",
        "--i-demultiplexed-seqs ager_bmr_trimmed.qza \\\n",
        "--p-trunc-len-f 266 \\\n",
        "--p-trunc-len-r 201 \\\n",
        "--p-n-threads 10 \\\n",
        "--o-table table_ager_bmr_trimmed.qza \\\n",
        "--o-representative-sequences repseqs_ager_bmr_trimmed.qza \\\n",
        "--o-denoising-stats stats_ager_bmr_trimmed.qza\n",
        "\n",
        "\n",
        "# visualize\n",
        "\n",
        "qiime metadata tabulate \\\n",
        "  --m-input-file stats_ager_bmr_trimmed.qza \\\n",
        "  --o-visualization stats_ager_bmr_trimmed.qzv\n",
        "\n",
        "qiime metadata tabulate \\\n",
        "  --m-input-file table_ager_bmr_trimmed.qza \\\n",
        "  --o-visualization table_ager_bmr_trimmed.qzv\n",
        "\n",
        "qiime feature-table summarize \\\n",
        "  --i-table table_ager_bmr_trimmed.qza \\\n",
        "  --o-visualization table_summ_ager_bmr_trimmed.qzv \\\n",
        "  --m-sample-metadata-file metadata_ager_bmr.tsv"
      ],
      "execution_count": 0,
      "outputs": []
    },
    {
      "cell_type": "markdown",
      "metadata": {
        "id": "hzuDgKMK5sT4",
        "colab_type": "text"
      },
      "source": [
        "\n",
        "Metric\tSample \\\n",
        "Number of samples\t48 \\\n",
        "Number of features\t2,910 \\\n",
        "Total frequency\t2,269,961"
      ]
    },
    {
      "cell_type": "code",
      "metadata": {
        "id": "GMqC-Z0AF6I0",
        "colab_type": "code",
        "colab": {}
      },
      "source": [
        "# dada2_b\n",
        "\n",
        "qiime dada2 denoise-paired \\\n",
        "--i-demultiplexed-seqs ager_bmr_trimmed_b.qza \\\n",
        "--p-trunc-len-f 268 \\\n",
        "--p-trunc-len-r 233 \\\n",
        "--p-n-threads 7 \\\n",
        "--o-table table_ager_bmr_trimmed_b.qza \\\n",
        "--o-representative-sequences repseqs_ager_bmr_trimmed_b.qza \\\n",
        "--o-denoising-stats stats_ager_bmr_trimmed_b.qza\n",
        "\n",
        "\n",
        "# visualize\n",
        "\n",
        "qiime metadata tabulate \\\n",
        "  --m-input-file stats_ager_bmr_trimmed_b.qza \\\n",
        "  --o-visualization stats_ager_bmr_trimmed_b.qzv\n",
        "\n",
        "qiime metadata tabulate \\\n",
        "  --m-input-file table_ager_bmr_trimmed_b.qza \\\n",
        "  --o-visualization table_ager_bmr_trimmed_b.qzv\n",
        "\n",
        "qiime feature-table summarize \\\n",
        "  --i-table table_ager_bmr_trimmed_b.qza \\\n",
        "  --o-visualization table_summ_ager_bmr_trimmed_b.qzv \\\n",
        "  --m-sample-metadata-file metadata_ager_bmr.tsv\n",
        "\n",
        "qiime feature-table tabulate-seqs \\\n",
        "  --i-data repseqs_ager_bmr_trimmed_b.qza  \\\n",
        "  --o-visualization repseqs_ager_bmr_trimmed_b.qzv"
      ],
      "execution_count": 0,
      "outputs": []
    },
    {
      "cell_type": "markdown",
      "metadata": {
        "id": "HQagoLSN5lJz",
        "colab_type": "text"
      },
      "source": [
        "**Con vecchio filtro** (vd. dada2 precedente): \\\n",
        "Metric\tSample \\\n",
        "Number of samples\t48 \\\n",
        "Number of features\t3,303 \\\n",
        "Total frequency\t2,750,058"
      ]
    },
    {
      "cell_type": "markdown",
      "metadata": {
        "id": "gxjdcoY4KxV9",
        "colab_type": "text"
      },
      "source": [
        "\n",
        "\n",
        "**Con nuovo filtro:** \\\n",
        "Metric\tSample \\\n",
        "Number of samples\t48 \\\n",
        "Number of features\t2,933 \\\n",
        "Total frequency\t2,586,923"
      ]
    },
    {
      "cell_type": "markdown",
      "metadata": {
        "id": "wS_38NmTZjQB",
        "colab_type": "text"
      },
      "source": [
        "Sequence Count \\\n",
        "2933\t\n",
        "Min Length\tMax Length\tMean Length\tRange\tStandard Deviation \\\n",
        "268\t486\t415.92\t218\t18.99\n",
        "\\\n",
        "\\\n",
        "Percentile:\t2%\t9%\t25%\t50%\t75%\t91%\t98% \\\n",
        "Length* (nts):\t393\t402\t404\t422\t427\t427\t428"
      ]
    },
    {
      "cell_type": "code",
      "metadata": {
        "id": "7qOzVIZMoaLs",
        "colab_type": "code",
        "colab": {}
      },
      "source": [
        "# eliminate sequences with length < 400\n",
        "\n",
        "qiime tools export --input-path repseqs_ager_bmr_trimmed_b.qza --output-path repseqs_ager_bmr_trimmed_b\n",
        "\n",
        "\n",
        "cat dna-sequences.fasta | paste - - | sed 's/>//' | awk '{ print $1,length($2) }' | sort -k2,2n > stats_seqs.tsv\n",
        "\n",
        "\n",
        "awk '{ if($2 < 400) { print }}' stats_seqs.tsv > stats_seqs_to_remove.tsv\n",
        "\n",
        "sed -i -r 's/(\\s+)?\\S+//2' stats_seqs_to_remove.tsv\n",
        "\n",
        "\n",
        "# add feature-id\n",
        "\n",
        "qiime feature-table filter-features \\\n",
        "--i-table table_ager_bmr_trimmed_b.qza \\\n",
        "--m-metadata-file repseqs_ager_bmr_trimmed_b/stats_seqs_to_remove.tsv \\\n",
        "--p-exclude-ids \\\n",
        "--o-filtered-table table_ager_bmr_trimmed_b_filtered.qza\n",
        "\n",
        "\n",
        "qiime feature-table filter-seqs \\\n",
        "--i-data repseqs_ager_bmr_trimmed_b.qza \\\n",
        "--m-metadata-file repseqs_ager_bmr_trimmed_b/stats_seqs_to_remove.tsv \\\n",
        "--p-exclude-ids \\\n",
        "--o-filtered-data repseqs_ager_bmr_trimmed_b_filtered.qza\n",
        "\n",
        "# visualization\n",
        "\n",
        "qiime feature-table tabulate-seqs \\\n",
        "  --i-data repseqs_ager_bmr_trimmed_b_filtered.qza \\\n",
        "  --o-visualization repseqs_ager_bmr_trimmed_b_filtered.qzv"
      ],
      "execution_count": 0,
      "outputs": []
    },
    {
      "cell_type": "markdown",
      "metadata": {
        "id": "xPEcRceANM9x",
        "colab_type": "text"
      },
      "source": [
        "Sequence Count \\\n",
        "2871 \\\n",
        "\t\n",
        "\n",
        "Min Length\tMax Length\tMean Length\tRange\tStandard Deviation\n",
        "2871\t400\t486\t418.01\t86\t11.13"
      ]
    },
    {
      "cell_type": "markdown",
      "metadata": {
        "id": "DFQjVYFBPBV6",
        "colab_type": "text"
      },
      "source": [
        "Percentile:\t2%\t9%\t25%\t50%\t75%\t91%\t98% \\\n",
        "Length* (nts):\t401\t402\t405\t422\t427\t427\t428"
      ]
    },
    {
      "cell_type": "markdown",
      "metadata": {
        "id": "XK5O8-6GZvwX",
        "colab_type": "text"
      },
      "source": [
        "### Tables"
      ]
    },
    {
      "cell_type": "code",
      "metadata": {
        "id": "PpwpAVM9bpLl",
        "colab_type": "code",
        "colab": {}
      },
      "source": [
        "# visualize\n",
        "\n",
        "qiime feature-table summarize \\\n",
        "  --i-table table_ager_bmr_trimmed_b_filtered.qza \\\n",
        "  --o-visualization table_ager_bmr_trimmed_b_filtered.qzv \\\n",
        "  --m-sample-metadata-file metadata_ager_bmr.tsv"
      ],
      "execution_count": 0,
      "outputs": []
    },
    {
      "cell_type": "markdown",
      "metadata": {
        "id": "haxsPIWPbxo8",
        "colab_type": "text"
      },
      "source": [
        "Number of samples\t48 \\\n",
        "Number of features\t2,871 \\\n",
        "Total frequency\t2,585,340"
      ]
    },
    {
      "cell_type": "code",
      "metadata": {
        "id": "eIWxnoE_a4cY",
        "colab_type": "code",
        "colab": {}
      },
      "source": [
        "# create BMR feature-table\n",
        "\n",
        "qiime tools export --input-path table_ager_bmr_trimmed_b_filtered.qza --output-path table_ager_bmr_trimmed_b_filtered\n",
        "\n",
        "\n",
        "# convert biom\n",
        "\n",
        "biom convert -i feature-table.biom -o feature-table_ager_bmr_trimmed_b_filtered.tsv --to-tsv"
      ],
      "execution_count": 0,
      "outputs": []
    },
    {
      "cell_type": "markdown",
      "metadata": {
        "id": "_BegEb8QjSQe",
        "colab_type": "text"
      },
      "source": [
        "### Taxonomy"
      ]
    },
    {
      "cell_type": "code",
      "metadata": {
        "id": "253K1u8gjUNe",
        "colab_type": "code",
        "colab": {}
      },
      "source": [
        "# assign taxonomy silva 138 NR99 only bacteria\n",
        "\n",
        "qiime feature-classifier classify-consensus-vsearch \\\n",
        "  --i-query repseqs_ager_bmr_trimmed_b.qza \\\n",
        "  --i-reference-reads /home/zpl/storage/SILVA_138/Bacteria_SILVA_138_SSURef_NR99.qza \\\n",
        "  --i-reference-taxonomy /home/zpl/storage/SILVA_138/Bacteria_taxonomy_SILVA_138_SSURef_NR99.qza \\\n",
        "  --p-threads 7 \\\n",
        "  --o-classification taxonomy_vsearch_ager_bmr_trimmed_b.qza\n",
        "\n",
        "\n",
        "# taxabarplot\n",
        "\n",
        "qiime taxa barplot \\\n",
        "  --i-table table_ager_bmr_trimmed_b.qza \\\n",
        "  --i-taxonomy taxonomy_vsearch_ager_bmr_trimmed_b.qza \\\n",
        "  --m-metadata-file metadata_ager_bmr.tsv \\\n",
        "  --o-visualization taxabarplot_vsearch_ager_bmr_trimmed_b.qzv"
      ],
      "execution_count": 0,
      "outputs": []
    },
    {
      "cell_type": "code",
      "metadata": {
        "id": "LqNhdMbdVg4q",
        "colab_type": "code",
        "colab": {}
      },
      "source": [
        "# create AGER taxa-table at genus level\n",
        "\n",
        "qiime taxa collapse \\\n",
        "  --i-table table_ager_bmr_trimmed_b.qza \\\n",
        "  --i-taxonomy taxonomy_vsearch_ager_bmr_trimmed_b.qza \\\n",
        "  --p-level 6 \\\n",
        "  --o-collapsed-table taxa-table_genus_ager_bmr_trimmed_b.qza\n",
        "\n",
        "\n",
        "# extract\n",
        "\n",
        "qiime tools export --input-path taxa-table_genus_ager_bmr_trimmed_b.qza --output-path taxa-table_genus_ager_bmr_trimmed_b\n",
        "\n",
        "\n",
        "# convert biom\n",
        "\n",
        "biom convert -i feature-table.biom -o taxa-table_genus_ager_bmr_trimmed_b.tsv --to-tsv\n",
        "\n",
        "\n",
        "# 749 genus "
      ],
      "execution_count": 0,
      "outputs": []
    },
    {
      "cell_type": "markdown",
      "metadata": {
        "id": "Ntu3rN77a7H_",
        "colab_type": "text"
      },
      "source": [
        "### Transfer files"
      ]
    },
    {
      "cell_type": "code",
      "metadata": {
        "id": "tQG8vVHga8lZ",
        "colab_type": "code",
        "colab": {}
      },
      "source": [
        "cp repseqs_ager_bmr_trimmed_b_filtered.qza /home/zpl/storage/aquaculture_big\n",
        "cp table_ager_bmr_trimmed_b_filtered.qza /home/zpl/storage/aquaculture_big\n",
        "cp taxa-table_genus_ager_bmr_trimmed_b.qza /home/zpl/storage/aquaculture_big\n",
        "cp taxa-table_genus_ager_bmr_trimmed_b.tsv /home/zpl/storage/aquaculture_big\n",
        "cp feature-table_ager_bmr_trimmed_b_filtered.tsv /home/zpl/storage/aquaculture_big"
      ],
      "execution_count": 0,
      "outputs": []
    },
    {
      "cell_type": "markdown",
      "metadata": {
        "id": "LnlYl2eg3lq_",
        "colab_type": "text"
      },
      "source": [
        "## Hermetia (ANTO)"
      ]
    },
    {
      "cell_type": "markdown",
      "metadata": {
        "id": "gP7kL2oxapYL",
        "colab_type": "text"
      },
      "source": [
        "**Hermetia + Nanoplastics** \\\n",
        "After bbduk cleaning here we have demux statistics: \\\n",
        "\\\n",
        "Demultiplexed sequence counts summary \\\n",
        "Minimum:\t8 \\\n",
        "Median:\t88585.5 \\\n",
        "Mean:\t111386.25609756098 \\\n",
        "Maximum:\t360996 \\\n",
        "Total:\t9133673"
      ]
    },
    {
      "cell_type": "code",
      "metadata": {
        "id": "2XnPaSazafOw",
        "colab_type": "code",
        "colab": {}
      },
      "source": [
        "# parto dal demux ed eseguo cutadapt\n",
        "# pwd: ~/storage/AntoniaB_1128_16S/analysis_for_aq_big\n",
        "\n",
        "# remove primers\n",
        "\n",
        "qiime cutadapt trim-paired  \\\n",
        "    --i-demultiplexed-sequences demux_pe_aq_pl.qza \\\n",
        "    --p-cores 7 \\\n",
        "    --p-front-f CCTACGGGNGGCWGCAG \\\n",
        "    --p-front-r GACTACHVGGGTATCTAATCC \\\n",
        "    --verbose \\\n",
        "    --p-discard-untrimmed \\\n",
        "    --o-trimmed-sequences analysis_for_aq_big/aq_pl_trimmed.qza\n",
        "\n",
        "# visualize\n",
        "\n",
        "qiime demux summarize \\\n",
        "  --i-data analysis_for_aq_big/aq_pl_trimmed.qza \\\n",
        "  --o-visualization analysis_for_aq_big/aq_pl_trimmed.qzv"
      ],
      "execution_count": 0,
      "outputs": []
    },
    {
      "cell_type": "markdown",
      "metadata": {
        "id": "Ue3lbghIWf1k",
        "colab_type": "text"
      },
      "source": [
        "\n",
        "Minimum:\t2 \\\n",
        "Median:\t85670.0 \\\n",
        "Mean:\t107395.62195121951 \\\n",
        "Maximum:\t349816 \\\n",
        "Total:\t8806441"
      ]
    },
    {
      "cell_type": "code",
      "metadata": {
        "id": "AAvfjUFXW85Y",
        "colab_type": "code",
        "colab": {}
      },
      "source": [
        "# remove primers (b version)\n",
        "\n",
        "qiime cutadapt trim-paired  \\\n",
        "    --i-demultiplexed-sequences demux_pe_aq_pl.qza \\\n",
        "    --p-cores 7 \\\n",
        "    --p-front-f CCTACGGGNGGCWGCAG \\\n",
        "    --p-front-r GACTACHVGGGTATCTAATCC \\\n",
        "    --verbose \\\n",
        "    --p-error-rate 0.2 \\\n",
        "    --p-discard-untrimmed \\\n",
        "    --o-trimmed-sequences analysis_for_aq_big/aq_pl_trimmed_b.qza\n",
        "\n",
        "# visualize\n",
        "\n",
        "qiime demux summarize \\\n",
        "  --i-data analysis_for_aq_big/aq_pl_trimmed_b.qza \\\n",
        "  --o-visualization analysis_for_aq_big/aq_pl_trimmed_b.qzv"
      ],
      "execution_count": 0,
      "outputs": []
    },
    {
      "cell_type": "markdown",
      "metadata": {
        "id": "8ovr7o7cXTjA",
        "colab_type": "text"
      },
      "source": [
        "Minimum:\t2 \\\n",
        "Median:\t88142.0 \\\n",
        "Mean:\t110771.06097560975 \\\n",
        "Maximum:\t359206 \\\n",
        "Total:\t9083227"
      ]
    },
    {
      "cell_type": "code",
      "metadata": {
        "id": "pvlpLDNIby8W",
        "colab_type": "code",
        "colab": {}
      },
      "source": [
        "# dada2\n",
        "\n",
        "time qiime dada2 denoise-paired \\\n",
        "--i-demultiplexed-seqs analysis_for_aq_big/aq_pl_trimmed_b.qza  \\\n",
        "--p-trunc-len-f 283 \\\n",
        "--p-trunc-len-r 201 \\\n",
        "--p-n-threads 7 \\\n",
        "--o-representative-sequences analysis_for_aq_big/rep-seqs_aqpl_trimmed_b.qza \\\n",
        "--o-denoising-stats analysis_for_aq_big/stats-dada2_aqpl_trimmed_b.qza \\\n",
        "--o-table analysis_for_aq_big/table_aqpl_trimmed_b.qza \\\n",
        "--verbose\n",
        "\n",
        "\n",
        "# visualize\n",
        "\n",
        "qiime metadata tabulate \\\n",
        "  --m-input-file  analysis_for_aq_big/stats-dada2_aqpl_trimmed_b.qza \\\n",
        "  --o-visualization analysis_for_aq_big/stats-dada2_aqpl_trimmed_b.qzv\n",
        "\n",
        "qiime feature-table tabulate-seqs \\\n",
        "  --i-data analysis_for_aq_big/rep-seqs_aqpl_trimmed_b.qza \\\n",
        "  --o-visualization analysis_for_aq_big/rep-seqs_aqpl_trimmed_b.qzv"
      ],
      "execution_count": 0,
      "outputs": []
    },
    {
      "cell_type": "markdown",
      "metadata": {
        "id": "WGKMYc-BLFYF",
        "colab_type": "text"
      },
      "source": [
        "Sequence Count \\\n",
        "11630 \\\n",
        "\n",
        "\n",
        "Min Length\tMax Length\tMean Length\tRange\tStandard Deviation \\\n",
        "283\t471\t417.35\t188\t13.3"
      ]
    },
    {
      "cell_type": "code",
      "metadata": {
        "id": "OfV4_45QiKVm",
        "colab_type": "code",
        "colab": {}
      },
      "source": [
        "# dada2_b\n",
        "\n",
        "time qiime dada2 denoise-paired \\\n",
        "--i-demultiplexed-seqs analysis_for_aq_big/aq_pl_trimmed_b.qza  \\\n",
        "--p-trunc-len-f 283 \\\n",
        "--p-trunc-len-r 218 \\\n",
        "--p-n-threads 7 \\\n",
        "--o-representative-sequences analysis_for_aq_big/rep-seqs_b_aqpl_trimmed_b.qza \\\n",
        "--o-denoising-stats analysis_for_aq_big/stats-dada2_b_aqpl_trimmed_b.qza \\\n",
        "--o-table analysis_for_aq_big/table_b_aqpl_trimmed_b.qza \\\n",
        "--verbose\n",
        "\n",
        "\n",
        "# visualize\n",
        "\n",
        "qiime metadata tabulate \\\n",
        "  --m-input-file analysis_for_aq_big/stats-dada2_b_aqpl_trimmed_b.qza \\\n",
        "  --o-visualization analysis_for_aq_big/stats-dada2_b_aqpl_trimmed_b.qzv\n",
        "\n",
        "qiime feature-table tabulate-seqs \\\n",
        "  --i-data analysis_for_aq_big/rep-seqs_b_aqpl_trimmed_b.qza \\\n",
        "  --o-visualization analysis_for_aq_big/rep-seqs_b_aqpl_trimmed_b.qzv"
      ],
      "execution_count": 0,
      "outputs": []
    },
    {
      "cell_type": "markdown",
      "metadata": {
        "id": "4NhPTu5dLgnN",
        "colab_type": "text"
      },
      "source": [
        "Sequence Count\t\\\n",
        "11285 \\\n",
        "\\\n",
        "Min Length\tMax Length\tMean Length\tRange\tStandard Deviation \\\n",
        "283\t489\t417.41\t206\t13.37"
      ]
    },
    {
      "cell_type": "code",
      "metadata": {
        "id": "ZYlVetVuNSQZ",
        "colab_type": "code",
        "colab": {}
      },
      "source": [
        "# remove sequences with lenght < 400\n",
        "\n",
        "qiime tools export --input-path rep-seqs_b_aqpl_trimmed_b.qza --output-path rep-seqs_b_aqpl_trimmed_b\n",
        "\n",
        "\n",
        "cat dna-sequences.fasta | paste - - | sed 's/>//' | awk '{ print $1,length($2) }' | sort -k2,2n > stats_seqs.tsv\n",
        "\n",
        "\n",
        "awk '{ if($2 < 400) { print }}' stats_seqs.tsv > stats_seqs_to_remove.tsv\n",
        "\n",
        "sed -i -r 's/(\\s+)?\\S+//2' stats_seqs_to_remove.tsv\n",
        "\n",
        "\n",
        "# add feature-id\n",
        "\n",
        "qiime feature-table filter-features \\\n",
        "--i-table table_b_aqpl_trimmed_b.qza \\\n",
        "--m-metadata-file rep-seqs_b_aqpl_trimmed_b/stats_seqs_to_remove.tsv \\\n",
        "--p-exclude-ids \\\n",
        "--o-filtered-table table_b_aqpl_trimmed_b_filtered.qza\n",
        "\n",
        "\n",
        "qiime feature-table filter-seqs \\\n",
        "--i-data rep-seqs_b_aqpl_trimmed_b.qza \\\n",
        "--m-metadata-file rep-seqs_b_aqpl_trimmed_b/stats_seqs_to_remove.tsv \\\n",
        "--p-exclude-ids \\\n",
        "--o-filtered-data rep-seqs_b_aqpl_trimmed_b_filtered.qza\n",
        "\n",
        "# visualization\n",
        "\n",
        "qiime feature-table tabulate-seqs \\\n",
        "  --i-data rep-seqs_b_aqpl_trimmed_b_filtered.qza \\\n",
        "  --o-visualization rep-seqs_b_aqpl_trimmed_b_filtered.qzv"
      ],
      "execution_count": 0,
      "outputs": []
    },
    {
      "cell_type": "markdown",
      "metadata": {
        "id": "_M8TYAQlQN3F",
        "colab_type": "text"
      },
      "source": [
        "Sequence Count \\\n",
        "11129 \\\n",
        "\n",
        "Min Length\tMax Length\tMean Length\tRange\tStandard Deviation\n",
        "400\t489\t418.13\t89\t11.03"
      ]
    },
    {
      "cell_type": "markdown",
      "metadata": {
        "id": "OLiTiQ0gQODX",
        "colab_type": "text"
      },
      "source": [
        "Percentile:\t2%\t9%\t25%\t50%\t75%\t91%\t98% \\\n",
        "Length* (nts):\t402\t402\t404\t422\t427\t428\t429"
      ]
    },
    {
      "cell_type": "markdown",
      "metadata": {
        "id": "7981_QCAZrEE",
        "colab_type": "text"
      },
      "source": [
        "### Tables"
      ]
    },
    {
      "cell_type": "code",
      "metadata": {
        "id": "V9_yeLixcL2C",
        "colab_type": "code",
        "colab": {}
      },
      "source": [
        "# keep only AGER data\n",
        "\n",
        "qiime feature-table filter-samples \\\n",
        "  --i-table analysis_for_aq_big/table_b_aqpl_trimmed_b_filtered.qza \\\n",
        "  --m-metadata-file mapping_file_CTGB-2019-01175_1128.tsv \\\n",
        "  --p-where \"Project='AGER'\" \\\n",
        "  --o-filtered-table analysis_for_aq_big/table_b_aqpl_trimmed_b_filtered_AGER.qza\n",
        "\n",
        "\n",
        "# visualize\n",
        "\n",
        "qiime feature-table summarize \\\n",
        "  --i-table analysis_for_aq_big/table_b_aqpl_trimmed_b_filtered_AGER.qza \\\n",
        "  --o-visualization analysis_for_aq_big/table_b_aqpl_trimmed_b_filtered_AGER.qzv \\\n",
        "  --m-sample-metadata-file mapping_file_CTGB-2019-01175_1128.tsv"
      ],
      "execution_count": 0,
      "outputs": []
    },
    {
      "cell_type": "markdown",
      "metadata": {
        "id": "M0YhURXwWX6b",
        "colab_type": "text"
      },
      "source": [
        "\n",
        "Number of samples\t51 \\\n",
        "Number of features\t10,896 \\\n",
        "Total frequency\t5,012,538"
      ]
    },
    {
      "cell_type": "code",
      "metadata": {
        "id": "xHjQVyofXXGM",
        "colab_type": "code",
        "colab": {}
      },
      "source": [
        "# create AGER rep-seq file\n",
        "\n",
        "qiime feature-table filter-seqs \\\n",
        "  --i-data analysis_for_aq_big/rep-seqs_b_aqpl_trimmed_b_filtered.qza \\\n",
        "  --i-table analysis_for_aq_big/table_b_aqpl_trimmed_b_filtered_AGER.qza \\\n",
        "  --o-filtered-data analysis_for_aq_big/rep-seqs_b_aqpl_trimmed_b_filtered_AGER.qza"
      ],
      "execution_count": 0,
      "outputs": []
    },
    {
      "cell_type": "code",
      "metadata": {
        "id": "VoWjC9A-VMRY",
        "colab_type": "code",
        "colab": {}
      },
      "source": [
        "# create AGER feature-table\n",
        "\n",
        "qiime tools export --input-path table_b_aqpl_trimmed_b_filtered_AGER.qza --output-path table_b_aqpl_trimmed_b_filtered_AGER\n",
        "\n",
        "# convert biom\n",
        "\n",
        "biom convert -i feature-table.biom -o feature-table_b_aqpl_trimmed_b_filtered_AGER.tsv --to-tsv"
      ],
      "execution_count": 0,
      "outputs": []
    },
    {
      "cell_type": "markdown",
      "metadata": {
        "id": "jTxo3MJJUucb",
        "colab_type": "text"
      },
      "source": [
        "### Taxonomy"
      ]
    },
    {
      "cell_type": "code",
      "metadata": {
        "id": "fv3CVtfzUto3",
        "colab_type": "code",
        "colab": {}
      },
      "source": [
        "# assign taxonomy silva 138 NR99 only bacteria\n",
        "\n",
        "qiime feature-classifier classify-consensus-vsearch \\\n",
        "  --i-query rep-seqs_b_aqpl_trimmed_b_filtered.qza \\\n",
        "  --i-reference-reads /home/zpl/storage/SILVA_138/Bacteria_SILVA_138_SSURef_NR99.qza \\\n",
        "  --i-reference-taxonomy /home/zpl/storage/SILVA_138/Bacteria_taxonomy_SILVA_138_SSURef_NR99.qza \\\n",
        "  --p-threads 5 \\\n",
        "  --o-classification taxonomy_vsearch_b_aqpl_trimmed_b_filtered.qza\n",
        "\n",
        "\n",
        "# taxabarplot\n",
        "\n",
        "qiime taxa barplot \\\n",
        "  --i-table analysis_for_aq_big/table_b_aqpl_trimmed_b_filtered_AGER.qza \\\n",
        "  --i-taxonomy analysis_for_aq_big/taxonomy_vsearch_b_aqpl_trimmed_b_filtered.qza \\\n",
        "  --m-metadata-file mapping_file_CTGB-2019-01175_1128.tsv \\\n",
        "  --o-visualization analysis_for_aq_big/taxabarplot_vsearch_b_aqpl_trimmed_b_filtered_AGER.qzv"
      ],
      "execution_count": 0,
      "outputs": []
    },
    {
      "cell_type": "code",
      "metadata": {
        "id": "Sn1gDAjEVPdE",
        "colab_type": "code",
        "colab": {}
      },
      "source": [
        "# create AGER taxa-table at genus level\n",
        "\n",
        "qiime taxa collapse \\\n",
        "  --i-table table_b_aqpl_trimmed_b_filtered_AGER.qza \\\n",
        "  --i-taxonomy taxonomy_vsearch_b_aqpl_trimmed_b_filtered.qza \\\n",
        "  --p-level 6 \\\n",
        "  --o-collapsed-table taxa-table_genus_b_aqpl_trimmed_b_filtered_AGER.qza"
      ],
      "execution_count": 0,
      "outputs": []
    },
    {
      "cell_type": "code",
      "metadata": {
        "id": "sVGnGwSkshtP",
        "colab_type": "code",
        "colab": {}
      },
      "source": [
        "# extract taxa table\n",
        "\n",
        "qiime tools export --input-path taxa-table_genus_b_aqpl_trimmed_b_filtered_AGER.qza --output-path taxa-table_genus_b_aqpl_trimmed_b_filtered_AGER\n",
        "\n",
        "# convert biom\n",
        "\n",
        "biom convert -i feature-table.biom -o taxa-table_genus_b_aqpl_trimmed_b_filtered_AGER.tsv --to-tsv"
      ],
      "execution_count": 0,
      "outputs": []
    },
    {
      "cell_type": "markdown",
      "metadata": {
        "id": "GT77PpiNaU3p",
        "colab_type": "text"
      },
      "source": [
        "### Transfer files"
      ]
    },
    {
      "cell_type": "code",
      "metadata": {
        "id": "NzV0c4EyaWet",
        "colab_type": "code",
        "colab": {}
      },
      "source": [
        "cp rep-seqs_b_aqpl_trimmed_b_filtered_AGER.qza /home/zpl/storage/aquaculture_big\n",
        "cp table_b_aqpl_trimmed_b_filtered_AGER.qza /home/zpl/storage/aquaculture_big\n",
        "cp taxa-table_genus_b_aqpl_trimmed_b_filtered_AGER.qza /home/zpl/storage/aquaculture_big\n",
        "cp taxa-table_genus_b_aqpl_trimmed_b_filtered_AGER.tsv /home/zpl/storage/aquaculture_big\n",
        "cp feature-table_b_aqpl_trimmed_b_filtered_AGER.tsv /home/zpl/storage/aquaculture_big"
      ],
      "execution_count": 0,
      "outputs": []
    },
    {
      "cell_type": "markdown",
      "metadata": {
        "id": "UHjsJWp1ZQy3",
        "colab_type": "text"
      },
      "source": [
        "### Diversity analysis"
      ]
    },
    {
      "cell_type": "code",
      "metadata": {
        "id": "K1C-Lo-eZTqm",
        "colab_type": "code",
        "colab": {}
      },
      "source": [
        "# diversity analysis della table ager_bmr \n",
        "\n",
        "qiime diversity core-metrics \\\n",
        "  --i-table table_aqtz_trimmed_b_filtered_AGER.qza \\\n",
        "  --p-sampling-depth 14000 \\\n",
        "  --m-metadata-file /home/groot/storageBioinfoLAB/aquaculture_big/metadata_aquaculture_big_v3v4.tsv \\\n",
        "  --output-dir div_aqtz_trimmed_b_filtered_AGER"
      ],
      "execution_count": 0,
      "outputs": []
    },
    {
      "cell_type": "markdown",
      "metadata": {
        "id": "rFVtR7IQ3oWY",
        "colab_type": "text"
      },
      "source": [
        "## Tenebrio (ANTO)"
      ]
    },
    {
      "cell_type": "markdown",
      "metadata": {
        "id": "e918wXP7jRHT",
        "colab_type": "text"
      },
      "source": [
        "Minimum:\t3376 \\\n",
        "Median:\t173278.5 \\\n",
        "Mean:\t234771.28125 \\\n",
        "Maximum:\t2895415 \\\n",
        "Total:\t15025362"
      ]
    },
    {
      "cell_type": "code",
      "metadata": {
        "id": "3_0feT8obfED",
        "colab_type": "code",
        "colab": {}
      },
      "source": [
        "# parto dal demux ed eseguo cutadapt\n",
        "# pwd: /home/zpl/storage/anto_aquaculture/files/analysis_for_aq_big\n",
        "\n",
        "# remove primers\n",
        "\n",
        "qiime cutadapt trim-paired  \\\n",
        "    --i-demultiplexed-sequences demux-pe_aqtz.qza \\\n",
        "    --p-cores 1 \\\n",
        "    --p-front-f CCTACGGGNGGCWGCAG \\\n",
        "    --p-front-r GACTACHVGGGTATCTAATCC \\\n",
        "    --verbose \\\n",
        "    --p-discard-untrimmed \\\n",
        "    --o-trimmed-sequences analysis_for_aq_big/aq_tz_trimmed.qza\n",
        "\n",
        "# visualize\n",
        "\n",
        "qiime demux summarize \\\n",
        "  --i-data analysis_for_aq_big/aq_tz_trimmed.qza \\\n",
        "  --o-visualization analysis_for_aq_big/aq_tz_trimmed.qzv"
      ],
      "execution_count": 0,
      "outputs": []
    },
    {
      "cell_type": "markdown",
      "metadata": {
        "id": "ZyB87Frija1I",
        "colab_type": "text"
      },
      "source": [
        "\n",
        "Minimum:\t3260 \\\n",
        "Median:\t153779.5 \\\n",
        "Mean:\t229950.125 \\\n",
        "Maximum:\t2872078 \\\n",
        "Total:\t14716808"
      ]
    },
    {
      "cell_type": "code",
      "metadata": {
        "id": "lBSuRLB5jPS3",
        "colab_type": "code",
        "colab": {}
      },
      "source": [
        "# remove primers\n",
        "\n",
        "qiime cutadapt trim-paired  \\\n",
        "    --i-demultiplexed-sequences demux-pe_aqtz.qza \\\n",
        "    --p-cores 1 \\\n",
        "    --p-front-f CCTACGGGNGGCWGCAG \\\n",
        "    --p-front-r GACTACHVGGGTATCTAATCC \\\n",
        "    --verbose \\\n",
        "    --p-error-rate 0.2 \\\n",
        "    --p-discard-untrimmed \\\n",
        "    --o-trimmed-sequences analysis_for_aq_big/aq_tz_trimmed_b.qza\n",
        "\n",
        "# visualize\n",
        "\n",
        "qiime demux summarize \\\n",
        "  --i-data analysis_for_aq_big/aq_tz_trimmed_b.qza \\\n",
        "  --o-visualization analysis_for_aq_big/aq_tz_trimmed_b.qzv"
      ],
      "execution_count": 0,
      "outputs": []
    },
    {
      "cell_type": "markdown",
      "metadata": {
        "id": "jPY4AtL5prJS",
        "colab_type": "text"
      },
      "source": [
        "\n",
        "Minimum:\t3297 \\\n",
        "Median:\t166929.0 \\\n",
        "Mean:\t233054.703125 \\\n",
        "Maximum:\t2887311 \\\n",
        "Total:\t14915501"
      ]
    },
    {
      "cell_type": "code",
      "metadata": {
        "id": "6T7EvZSUMCyu",
        "colab_type": "code",
        "colab": {}
      },
      "source": [
        "# export TMPDIR=/home/zooplantlab/tmp\n",
        "\n",
        "# dada2\n",
        "\n",
        "time qiime dada2 denoise-paired \\\n",
        "--i-demultiplexed-seqs analysis_for_aq_big/aq_tz_trimmed_b.qza  \\\n",
        "--p-trunc-len-f 280 \\\n",
        "--p-trunc-len-r 220 \\\n",
        "--p-n-threads 8 \\\n",
        "--o-representative-sequences analysis_for_aq_big/rep-seqs_aqtz_trimmed_b.qza \\\n",
        "--o-denoising-stats analysis_for_aq_big/stats-dada2_aqtz_trimmed_b.qza \\\n",
        "--o-table analysis_for_aq_big/table_aqtz_trimmed_b.qza \\\n",
        "--verbose\n",
        "\n",
        "\n",
        "# visualize\n",
        "\n",
        "qiime metadata tabulate \\\n",
        "  --m-input-file analysis_for_aq_big/stats-dada2_aqtz_trimmed_b.qza \\\n",
        "  --o-visualization analysis_for_aq_big/stats-dada2_aqtz_trimmed_b.qzv\n",
        "\n",
        "qiime feature-table tabulate-seqs \\\n",
        "  --i-data analysis_for_aq_big/rep-seqs_aqtz_trimmed_b.qza \\\n",
        "  --o-visualization analysis_for_aq_big/rep-seqs_aqtz_trimmed_b.qzv"
      ],
      "execution_count": 0,
      "outputs": []
    },
    {
      "cell_type": "markdown",
      "metadata": {
        "id": "Excyt5olWZFr",
        "colab_type": "text"
      },
      "source": [
        "Sequence Count \\\n",
        "34395\t\\\n",
        "Min Length\tMax Length\tMean Length\tRange\tStandard Deviation \\\n",
        "280\t488\t411.81\t208\t24.75"
      ]
    },
    {
      "cell_type": "markdown",
      "metadata": {
        "id": "eicLVVWjW1Om",
        "colab_type": "text"
      },
      "source": [
        "Percentile:\t2%\t9%\t25%\t50%\t75%\t91%\t98% \\\n",
        "Length* (nts):\t306\t402\t403\t421\t427\t428\t429"
      ]
    },
    {
      "cell_type": "code",
      "metadata": {
        "id": "VVGb4MmkQuN4",
        "colab_type": "code",
        "colab": {}
      },
      "source": [
        "# remove sequences with lenght < 400\n",
        "\n",
        "qiime tools export --input-path rep-seqs_aqtz_trimmed_b.qza --output-path rep-seqs_aqtz_trimmed_b\n",
        "\n",
        "\n",
        "cat dna-sequences.fasta | paste - - | sed 's/>//' | awk '{ print $1,length($2) }' | sort -k2,2n > stats_seqs.tsv\n",
        "\n",
        "\n",
        "awk '{ if($2 < 400) { print }}' stats_seqs.tsv > stats_seqs_to_remove.tsv\n",
        "\n",
        "sed -i -r 's/(\\s+)?\\S+//2' stats_seqs_to_remove.tsv\n",
        "\n",
        "\n",
        "# add feature-id con nano\n",
        "\n",
        "qiime feature-table filter-features \\\n",
        "--i-table table_aqtz_trimmed_b.qza  \\\n",
        "--m-metadata-file rep-seqs_aqtz_trimmed_b/stats_seqs_to_remove.tsv \\\n",
        "--p-exclude-ids \\\n",
        "--o-filtered-table table_aqtz_trimmed_b_filtered.qza\n",
        "\n",
        "\n",
        "qiime feature-table filter-seqs \\\n",
        "--i-data rep-seqs_aqtz_trimmed_b.qza \\\n",
        "--m-metadata-file rep-seqs_aqtz_trimmed_b/stats_seqs_to_remove.tsv \\\n",
        "--p-exclude-ids \\\n",
        "--o-filtered-data rep-seqs_aqtz_trimmed_b_filtered.qza\n",
        "\n",
        "# visualization\n",
        "\n",
        "qiime feature-table tabulate-seqs \\\n",
        "  --i-data rep-seqs_aqtz_trimmed_b_filtered.qza \\\n",
        "  --o-visualization rep-seqs_aqtz_trimmed_b_filtered.qzv"
      ],
      "execution_count": 0,
      "outputs": []
    },
    {
      "cell_type": "markdown",
      "metadata": {
        "id": "ZaTncKlTXyOL",
        "colab_type": "text"
      },
      "source": [
        "Sequence Count \\\n",
        "32206 \\\t\n",
        "Min Length\tMax Length\tMean Length\tRange\tStandard Deviation \\\n",
        "400\t488\t416.78\t88\t11.74 \n",
        "\n",
        "\\\n",
        "Percentile:\t2%\t9%\t25%\t50%\t75%\t91%\t98% \\\n",
        "Length* (nts):\t402\t402\t404\t422\t427\t428\t429"
      ]
    },
    {
      "cell_type": "markdown",
      "metadata": {
        "id": "l1Zz4sYZZoDt",
        "colab_type": "text"
      },
      "source": [
        "### Tables"
      ]
    },
    {
      "cell_type": "code",
      "metadata": {
        "id": "R15QCiynYZ2A",
        "colab_type": "code",
        "colab": {}
      },
      "source": [
        "# keep only AGER data\n",
        "\n",
        "qiime feature-table filter-samples \\\n",
        "  --i-table analysis_for_aq_big/table_aqtz_trimmed_b_filtered.qza \\\n",
        "  --m-metadata-file metadata_aqtz.tsv  \\\n",
        "  --p-where \"Project='AGER'\" \\\n",
        "  --o-filtered-table analysis_for_aq_big/table_aqtz_trimmed_b_filtered_AGER.qza\n",
        "\n",
        "\n",
        "# visualize\n",
        "\n",
        "qiime feature-table summarize \\\n",
        "  --i-table analysis_for_aq_big/table_aqtz_trimmed_b_filtered_AGER.qza \\\n",
        "  --o-visualization analysis_for_aq_big/table_aqtz_trimmed_b_filtered_AGER.qzv \\\n",
        "  --m-sample-metadata-file metadata_aqtz.tsv"
      ],
      "execution_count": 0,
      "outputs": []
    },
    {
      "cell_type": "markdown",
      "metadata": {
        "id": "vkB4PvbbZUUN",
        "colab_type": "text"
      },
      "source": [
        "Number of samples\t57 \\\n",
        "Number of features\t13,528 \\\n",
        "Total frequency\t6,841,821"
      ]
    },
    {
      "cell_type": "code",
      "metadata": {
        "id": "NfBtSS8oZezz",
        "colab_type": "code",
        "colab": {}
      },
      "source": [
        "# create AGER rep-seq file\n",
        "\n",
        "qiime feature-table filter-seqs \\\n",
        "  --i-data analysis_for_aq_big/rep-seqs_aqtz_trimmed_b_filtered.qza \\\n",
        "  --i-table analysis_for_aq_big/table_aqtz_trimmed_b_filtered_AGER.qza \\\n",
        "  --o-filtered-data analysis_for_aq_big/rep-seqs_aqtz_trimmed_b_filtered_AGER.qza"
      ],
      "execution_count": 0,
      "outputs": []
    },
    {
      "cell_type": "code",
      "metadata": {
        "id": "892N00aXZj1P",
        "colab_type": "code",
        "colab": {}
      },
      "source": [
        "# create AGER feature-table\n",
        "\n",
        "qiime tools export --input-path table_aqtz_trimmed_b_filtered_AGER.qza --output-path table_aqtz_trimmed_b_filtered_AGER\n",
        "\n",
        "# convert biom\n",
        "\n",
        "biom convert -i feature-table.biom -o feature-table_aqtz_trimmed_b_filtered_AGER.tsv --to-tsv"
      ],
      "execution_count": 0,
      "outputs": []
    },
    {
      "cell_type": "markdown",
      "metadata": {
        "id": "tM2Gp0eQZzXi",
        "colab_type": "text"
      },
      "source": [
        "### Taxonomy"
      ]
    },
    {
      "cell_type": "code",
      "metadata": {
        "id": "1-Pk5yaWZ0e8",
        "colab_type": "code",
        "colab": {}
      },
      "source": [
        "# assign taxonomy silva 138 NR99 only bacteria\n",
        "\n",
        "time qiime feature-classifier classify-consensus-vsearch \\\n",
        "  --i-query rep-seqs_aqtz_trimmed_b_filtered.qza \\\n",
        "  --i-reference-reads /home/zpl/storage/SILVA_138/Bacteria_SILVA_138_SSURef_NR99.qza \\\n",
        "  --i-reference-taxonomy /home/zpl/storage/SILVA_138/Bacteria_taxonomy_SILVA_138_SSURef_NR99.qza \\\n",
        "  --p-threads 10 \\\n",
        "  --o-classification taxonomy_vsearch_aqtz_trimmed_b_filtered.qza\n",
        "\n",
        "\n",
        "# taxabarplot\n",
        "\n",
        "qiime taxa barplot \\\n",
        "  --i-table analysis_for_aq_big/table_aqtz_trimmed_b_filtered_AGER.qza  \\\n",
        "  --i-taxonomy analysis_for_aq_big/taxonomy_vsearch_aqtz_trimmed_b_filtered.qza \\\n",
        "  --m-metadata-file metadata_aqtz.tsv \\\n",
        "  --o-visualization analysis_for_aq_big/taxabarplot_vsearch_aqtz_trimmed_b_filtered.qzv"
      ],
      "execution_count": 0,
      "outputs": []
    },
    {
      "cell_type": "code",
      "metadata": {
        "id": "ZfDRcdlaZ5Qb",
        "colab_type": "code",
        "colab": {}
      },
      "source": [
        "# create AGER taxa-table at genus level\n",
        "\n",
        "qiime taxa collapse \\\n",
        "  --i-table table_aqtz_trimmed_b_filtered_AGER.qza \\\n",
        "  --i-taxonomy taxonomy_vsearch_aqtz_trimmed_b_filtered.qza \\\n",
        "  --p-level 6 \\\n",
        "  --o-collapsed-table taxa-table_genus_aqtz_trimmed_b_filtered_AGER.qza"
      ],
      "execution_count": 0,
      "outputs": []
    },
    {
      "cell_type": "code",
      "metadata": {
        "id": "mKH3cIJCsdPS",
        "colab_type": "code",
        "colab": {}
      },
      "source": [
        "# extract taxa table\n",
        "\n",
        "qiime tools export --input-path taxa-table_genus_aqtz_trimmed_b_filtered_AGER.qza --output-path taxa-table_genus_aqtz_trimmed_b_filtered_AGER\n",
        "\n",
        "# convert biom\n",
        "\n",
        "biom convert -i feature-table.biom -o taxa-table_genus_aqtz_trimmed_b_filtered_AGER.tsv --to-tsv"
      ],
      "execution_count": 0,
      "outputs": []
    },
    {
      "cell_type": "markdown",
      "metadata": {
        "id": "gpZ7IOFcZ8Dz",
        "colab_type": "text"
      },
      "source": [
        "### Transfer files"
      ]
    },
    {
      "cell_type": "code",
      "metadata": {
        "id": "paG0DnfPZ9fJ",
        "colab_type": "code",
        "colab": {}
      },
      "source": [
        "cp rep-seqs_aqtz_trimmed_b_filtered_AGER.qza /home/zpl/storage/aquaculture_big\n",
        "cp table_aqtz_trimmed_b_filtered_AGER.qza /home/zpl/storage/aquaculture_big\n",
        "cp taxa-table_genus_aqtz_trimmed_b_filtered_AGER.qza /home/zpl/storage/aquaculture_big\n",
        "cp taxa-table_genus_aqtz_trimmed_b_filtered_AGER.tsv /home/zpl/storage/aquaculture_big\n",
        "cp feature-table_aqtz_trimmed_b_filtered_AGER.tsv /home/zpl/storage/aquaculture_big"
      ],
      "execution_count": 0,
      "outputs": []
    },
    {
      "cell_type": "markdown",
      "metadata": {
        "id": "_TekQuRBT_wO",
        "colab_type": "text"
      },
      "source": [
        "### Diversity analysis"
      ]
    },
    {
      "cell_type": "code",
      "metadata": {
        "id": "edTiU9siUEaD",
        "colab_type": "code",
        "colab": {}
      },
      "source": [
        "# diversity analysis della table aqtz\n",
        "\n",
        "qiime diversity core-metrics \\\n",
        "  --i-table table_aqtz_trimmed_b_filtered_AGER.qza \\\n",
        "  --p-sampling-depth 14000 \\\n",
        "  --m-metadata-file /home/groot/storageBioinfoLAB/aquaculture_big/metadata_aquaculture_big_v3v4.tsv \\\n",
        "  --output-dir div_aqtz_trimmed_b_filtered_AGER"
      ],
      "execution_count": 0,
      "outputs": []
    },
    {
      "cell_type": "markdown",
      "metadata": {
        "id": "AojsbpCj6Dgz",
        "colab_type": "text"
      },
      "source": [
        "# MYSUSHI"
      ]
    },
    {
      "cell_type": "markdown",
      "metadata": {
        "id": "Ej3BWuuMDCOz",
        "colab_type": "text"
      },
      "source": [
        "Minimum:\t24940 \\\n",
        "Median:\t71465.0 \\\n",
        "Mean:\t73274.25531914894 \\\n",
        "Maximum:\t133543 \\\n",
        "Total:\t6887780"
      ]
    },
    {
      "cell_type": "code",
      "metadata": {
        "id": "MqZ48GgLuG_B",
        "colab_type": "code",
        "colab": {}
      },
      "source": [
        "# parto dal demux ed eseguo cutadapt\n",
        "# pwd: /home/zpl/storage/mysushi_bioinfo/analysis_for_aq_big\n",
        "\n",
        "qiime cutadapt trim-paired  \\\n",
        "    --i-demultiplexed-sequences mysushi_152253.qza \\\n",
        "    --p-cores 1 \\\n",
        "    --p-front-f GTGCCAGCMGCCGCGGTAA \\\n",
        "    --p-front-r GGACTACHVGGGTWTCTAAT \\\n",
        "    --verbose \\\n",
        "    --p-discard-untrimmed \\\n",
        "    --o-trimmed-sequences analysis_for_aq_big/mysushi_152253_trimmed.qza\n",
        "\n",
        "\n",
        "# visualize\n",
        "\n",
        "qiime demux summarize \\\n",
        "  --i-data analysis_for_aq_big/mysushi_152253_trimmed.qza \\\n",
        "  --o-visualization analysis_for_aq_big/mysushi_152253_trimmed.qzv"
      ],
      "execution_count": 0,
      "outputs": []
    },
    {
      "cell_type": "markdown",
      "metadata": {
        "id": "wwol1Y6EDRLR",
        "colab_type": "text"
      },
      "source": [
        "\n",
        "Minimum:\t24740 \\\n",
        "Median:\t70820.0 \\\n",
        "Mean:\t72617.14893617021 \\\n",
        "Maximum:\t132374 \\\n",
        "Total:\t6826012"
      ]
    },
    {
      "cell_type": "code",
      "metadata": {
        "id": "iaKTV8WRHBEA",
        "colab_type": "code",
        "colab": {}
      },
      "source": [
        "# dada2\n",
        "\n",
        "qiime dada2 denoise-paired \\\n",
        "  --i-demultiplexed-seqs analysis_for_aq_big/mysushi_152253_trimmed.qza \\\n",
        "  --p-trunc-len-f 242 \\\n",
        "  --p-trunc-len-r 174 \\\n",
        "  --p-n-threads 7 \\\n",
        "  --o-representative-sequences analysis_for_aq_big/rep-seqs_mysushi_152253_trimmed.qza \\\n",
        "  --o-denoising-stats analysis_for_aq_big/stats-dada2_mysushi_152253_trimmed.qza \\\n",
        "  --o-table analysis_for_aq_big/table_mysushi_152253_trimmed.qza \\\n",
        "  --verbose\n",
        "\n",
        "\n",
        "# visualize\n",
        "\n",
        "qiime feature-table summarize  \\\n",
        "  --m-sample-metadata-file map_mysushi.tsv \\\n",
        "  --i-table analysis_for_aq_big/table_mysushi_152253_trimmed.qza \\\n",
        "  --o-visualization analysis_for_aq_big/table_mysushi_152253_trimmed.qzv\n",
        "\n",
        "qiime metadata tabulate \\\n",
        "  --m-input-file analysis_for_aq_big/stats-dada2_mysushi_152253_trimmed.qza\\\n",
        "  --o-visualization analysis_for_aq_big/stats-dada2_mysushi_152253_trimmed.qzv\n",
        "\n",
        "qiime feature-table tabulate-seqs \\\n",
        "  --i-data analysis_for_aq_big/rep-seqs_mysushi_152253_trimmed.qza \\\n",
        "  --o-visualization analysis_for_aq_big/rep-seqs_mysushi_152253_trimmed.qzv\n",
        "\n",
        "# tenuto il 30-40% delle sequenze\n",
        "# non è molto\n",
        "# siccome questa è un'analisi tangenziale teniamo così al massimo ricorriamo"
      ],
      "execution_count": 0,
      "outputs": []
    },
    {
      "cell_type": "markdown",
      "metadata": {
        "id": "g4Qsr7OWIrWG",
        "colab_type": "text"
      },
      "source": [
        "\n",
        "Sequence Count \\\n",
        "3283\t\\\n",
        "Min Length\tMax Length\tMean Length\tRange\tStandard Deviation \\\n",
        "242\t404\t267.42\t162\t35.18"
      ]
    },
    {
      "cell_type": "markdown",
      "metadata": {
        "id": "kdhUCTZyPHFE",
        "colab_type": "text"
      },
      "source": [
        "Percentile:\t2%\t9%\t25%\t50%\t75%\t91%\t98% \\\n",
        "Length* (nts):\t242\t250\t253\t253\t254\t332\t384"
      ]
    },
    {
      "cell_type": "markdown",
      "metadata": {
        "id": "NtciBDrvLZ8v",
        "colab_type": "text"
      },
      "source": [
        "## Tables"
      ]
    },
    {
      "cell_type": "code",
      "metadata": {
        "id": "rZYs8lhTLbb2",
        "colab_type": "code",
        "colab": {}
      },
      "source": [
        "# visualize\n",
        "\n",
        "qiime feature-table summarize \\\n",
        "  --i-table analysis_for_aq_big/table_mysushi_152253_trimmed.qza \\\n",
        "  --o-visualization analysis_for_aq_big/table_mysushi_152253_trimmed.qzv \\\n",
        "  --m-sample-metadata-file map_mysushi.tsv "
      ],
      "execution_count": 0,
      "outputs": []
    },
    {
      "cell_type": "code",
      "metadata": {
        "id": "QeIVRLIpLcJg",
        "colab_type": "code",
        "colab": {}
      },
      "source": [
        "# create feature-table\n",
        "\n",
        "qiime tools export --input-path table_mysushi_152253_trimmed.qza --output-path table_mysushi_152253_trimmed\n",
        "\n",
        "# convert biom\n",
        "\n",
        "biom convert -i feature-table.biom -o feature-table_mysushi_152253_trimmed.tsv --to-tsv"
      ],
      "execution_count": 0,
      "outputs": []
    },
    {
      "cell_type": "markdown",
      "metadata": {
        "id": "leaAzGtPLckR",
        "colab_type": "text"
      },
      "source": [
        "##Taxonomy"
      ]
    },
    {
      "cell_type": "code",
      "metadata": {
        "id": "KD33v9P7LdzW",
        "colab_type": "code",
        "colab": {}
      },
      "source": [
        "# assign taxonomy silva 138 NR99 only bacteria\n",
        "\n",
        "time qiime feature-classifier classify-consensus-vsearch \\\n",
        "  --i-query rep-seqs_mysushi_152253_trimmed.qza \\\n",
        "  --i-reference-reads /home/zpl/storage/SILVA_138/Bacteria_SILVA_138_SSURef_NR99.qza \\\n",
        "  --i-reference-taxonomy /home/zpl/storage/SILVA_138/Bacteria_taxonomy_SILVA_138_SSURef_NR99.qza \\\n",
        "  --p-threads 7 \\\n",
        "  --o-classification taxonomy_vsearch_mysushi_152253_trimmed.qza\n",
        "\n",
        "\n",
        "# da lanciare\n",
        "# taxabarplot\n",
        "\n",
        "qiime taxa barplot \\\n",
        "  --i-table analysis_for_aq_big/table_mysushi_152253_trimmed.qza  \\\n",
        "  --i-taxonomy analysis_for_aq_big/taxonomy_vsearch_mysushi_152253_trimmed.qza \\\n",
        "  --m-metadata-file map_mysushi.tsv  \\\n",
        "  --o-visualization analysis_for_aq_big/taxabarplot_vsearch_mysushi_152253_trimmed.qzv"
      ],
      "execution_count": 0,
      "outputs": []
    },
    {
      "cell_type": "code",
      "metadata": {
        "id": "sdDxGyZwLeBX",
        "colab_type": "code",
        "colab": {}
      },
      "source": [
        "# da lanciare\n",
        "# create mysushi taxa-table at genus level\n",
        "\n",
        "qiime taxa collapse \\\n",
        "  --i-table table_mysushi_152253_trimmed.qza \\\n",
        "  --i-taxonomy taxonomy_vsearch_mysushi_152253_trimmed.qza \\\n",
        "  --p-level 6 \\\n",
        "  --o-collapsed-table taxa-table_genus_mysushi_152253_trimmed.qza"
      ],
      "execution_count": 0,
      "outputs": []
    },
    {
      "cell_type": "code",
      "metadata": {
        "id": "AEKPbbQELkr_",
        "colab_type": "code",
        "colab": {}
      },
      "source": [
        "# da lanciare\n",
        "# extract taxa table\n",
        "\n",
        "qiime tools export --input-path taxa-table_genus_mysushi_152253_trimmed.qza --output-path taxa-table_genus_mysushi_152253_trimmed\n",
        "\n",
        "# convert biom\n",
        "\n",
        "biom convert -i feature-table.biom -o taxa-table_genus_genus_mysushi_152253_trimmed.tsv --to-tsv"
      ],
      "execution_count": 0,
      "outputs": []
    },
    {
      "cell_type": "markdown",
      "metadata": {
        "id": "HDpIb5EaLjsH",
        "colab_type": "text"
      },
      "source": [
        "##Transfer files"
      ]
    },
    {
      "cell_type": "code",
      "metadata": {
        "id": "aFdlO_7-Lmpe",
        "colab_type": "code",
        "colab": {}
      },
      "source": [
        "cp \n",
        "cp"
      ],
      "execution_count": 0,
      "outputs": []
    },
    {
      "cell_type": "markdown",
      "metadata": {
        "id": "9eFpAI046Fw4",
        "colab_type": "text"
      },
      "source": [
        "# BAZZOCCHI"
      ]
    },
    {
      "cell_type": "markdown",
      "metadata": {
        "id": "Gfs_WqnBtbx2",
        "colab_type": "text"
      },
      "source": [
        "Minimum:\t4 \\\n",
        "Median:\t189017.0 \\\n",
        "Mean:\t144476.76923076922 \\\n",
        "Maximum:\t404182 \\\n",
        "Total:\t3756396"
      ]
    },
    {
      "cell_type": "code",
      "metadata": {
        "id": "pk1ZIZdw2UMN",
        "colab_type": "code",
        "colab": {}
      },
      "source": [
        "# pwd : /home/zpl/storage/Proj_1008_16S/raw_file_Pr1008/bazzocchi_raw/results_baz_acult\n",
        "# parto da demultiplex Baz_acult.qza\n",
        "\n",
        "# remove primers\n",
        "\n",
        "qiime cutadapt trim-paired  \\\n",
        "    --i-demultiplexed-sequences Baz_acult.qza \\\n",
        "    --p-cores 1 \\\n",
        "    --p-front-f CCTACGGGNGGCWGCAG \\\n",
        "    --p-front-r GACTACHVGGGTATCTAATCC \\\n",
        "    --verbose \\\n",
        "    --p-error-rate 0.2 \\\n",
        "    --p-discard-untrimmed \\\n",
        "    --o-trimmed-sequences analysis_for_aq_big/demux_bazz_acult_trimmed.qza\n",
        "\n",
        "\n",
        "# visualize\n",
        "\n",
        "qiime demux summarize \\\n",
        "  --i-data analysis_for_aq_big/demux_bazz_acult_trimmed.qza \\\n",
        "  --o-visualization analysis_for_aq_big/demux_bazz_acult_trimmed.qzv"
      ],
      "execution_count": 0,
      "outputs": []
    },
    {
      "cell_type": "markdown",
      "metadata": {
        "id": "RDt58RV-vTXz",
        "colab_type": "text"
      },
      "source": [
        "Minimum:\t3 \\\n",
        "Median:\t187811.0 \\\n",
        "Mean:\t143603.92307692306 \\\n",
        "Maximum:\t401650 \\\n",
        "Total:\t3733702"
      ]
    },
    {
      "cell_type": "code",
      "metadata": {
        "id": "VSV0M6Jon1O-",
        "colab_type": "code",
        "colab": {}
      },
      "source": [
        "# vedo stats pipeline Anna\n",
        "# pwd: ~/storage/Proj_1008_16S/raw_file_Pr1008/bazzocchi_raw/results_baz_acult\n",
        "\n",
        "qiime metadata tabulate \\\n",
        "  --m-input-file denoising-stats_baz_acult.qza \\\n",
        "  --o-visualization denoising-stats_baz_acult_anna.qzv\n",
        "\n",
        "# le sequenze si dimezzano!"
      ],
      "execution_count": 0,
      "outputs": []
    },
    {
      "cell_type": "code",
      "metadata": {
        "id": "8N_OM9mUveME",
        "colab_type": "code",
        "colab": {}
      },
      "source": [
        "# dada2\n",
        "\n",
        "time qiime dada2 denoise-paired \\\n",
        "--i-demultiplexed-seqs analysis_for_aq_big/demux_bazz_acult_trimmed.qza   \\\n",
        "--p-trunc-len-f 271 \\\n",
        "--p-trunc-len-r 215 \\\n",
        "--p-n-threads 16 \\\n",
        "--o-representative-sequences analysis_for_aq_big/rep-seqs_bazz_acult_trimmed.qza \\\n",
        "--o-denoising-stats analysis_for_aq_big/stats-dada2_bazz_acult_trimmed.qza \\\n",
        "--o-table analysis_for_aq_big/table_bazz_acult_trimmed.qza \\\n",
        "--verbose\n",
        "\n",
        "\n",
        "#1) Filtering The filter removed all reads: /tmp/tmpj54vj461/filt_f/TA_C_UP_3_RplusI_045minus022_S47_L001_R1_001.fastq.gz and /tmp/tmpj54vj461/filt_r/TA_C_UP_3_RplusI_045minus022_S47_L001_R2_001.fastq.gz not written.\n",
        "#The filter removed all reads: /tmp/tmpj54vj461/filt_f/TA_C_UP_3_RplusI_3_S46_L001_R1_001.fastq.gz and /tmp/tmpj54vj461/filt_r/TA_C_UP_3_RplusI_3_S46_L001_R2_001.fastq.gz not written.\n",
        "#The filter removed all reads: /tmp/tmpj54vj461/filt_f/Bianco_3EXT_S41_L001_R1_001.fastq.gz and /tmp/tmpj54vj461/filt_r/Bianco_3EXT_S41_L001_R2_001.fastq.gz not written.\n",
        "#The filter removed all reads: /tmp/tmpj54vj461/filt_f/TA_OUT_2_045minus022_S45_L001_R1_001.fastq.gz and /tmp/tmpj54vj461/filt_r/TA_OUT_2_045minus022_S45_L001_R2_001.fastq.gz not written.\n",
        "#The filter removed all reads: /tmp/tmpj54vj461/filt_f/WE_1_3_S42_L001_R1_001.fastq.gz and /tmp/tmpj54vj461/filt_r/WE_1_3_S42_L001_R2_001.fastq.gz not written.\n",
        "#The filter removed all reads: /tmp/tmpj54vj461/filt_f/WE_1_045minus022_S43_L001_R1_001.fastq.gz and /tmp/tmpj54vj461/filt_r/WE_1_045minus022_S43_L001_R2_001.fastq.gz not written.\n",
        "\n",
        "\n",
        "# visualize\n",
        "\n",
        "qiime feature-table summarize  \\\n",
        "  --m-sample-metadata-file baz_acult_map.tsv \\\n",
        "  --i-table analysis_for_aq_big/table_bazz_acult_trimmed.qza \\\n",
        "  --o-visualization analysis_for_aq_big/table_bazz_acult_trimmed.qzv\n",
        "\n",
        "qiime metadata tabulate \\\n",
        "  --m-input-file analysis_for_aq_big/stats-dada2_bazz_acult_trimmed.qza \\\n",
        "  --o-visualization analysis_for_aq_big/stats-dada2_bazz_acult_trimmed.qzv\n",
        "\n",
        "qiime feature-table tabulate-seqs \\\n",
        "  --i-data analysis_for_aq_big/rep-seqs_bazz_acult_trimmed.qza \\\n",
        "  --o-visualization analysis_for_aq_big/rep-seqs_bazz_acult_trimmed.qzv\n",
        "\n",
        "# rese bassissime! 30-40%"
      ],
      "execution_count": 0,
      "outputs": []
    },
    {
      "cell_type": "markdown",
      "metadata": {
        "id": "x-xN-FWH4he0",
        "colab_type": "text"
      },
      "source": [
        "\n",
        "Sequence Count 3987\t\\\n",
        "Min Length\tMax Length\tMean Length\tRange\tStandard Deviation \\\n",
        "271\t461\t415.57\t190\t17.63"
      ]
    },
    {
      "cell_type": "markdown",
      "metadata": {
        "id": "iIhrgaullorm",
        "colab_type": "text"
      },
      "source": [
        "Percentile:\t2%\t9%\t25%\t50%\t75%\t91%\t98% \\\n",
        "Length* (nts):\t401\t402\t404\t422\t427\t427\t428"
      ]
    },
    {
      "cell_type": "code",
      "metadata": {
        "id": "zSTy-SGWl3xd",
        "colab_type": "code",
        "colab": {}
      },
      "source": [
        "# dada2 b\n",
        "\n",
        "# export TMPDIR=/home/zooplantlab/tmp\n",
        "\n",
        "time qiime dada2 denoise-paired \\\n",
        "--i-demultiplexed-seqs analysis_for_aq_big/demux_bazz_acult_trimmed.qza   \\\n",
        "--p-trunc-len-f 271 \\\n",
        "--p-trunc-len-r 215 \\\n",
        "--p-n-threads 16 \\\n",
        "--p-max-ee-f 2.5 \\\n",
        "--p-max-ee-r 2.5 \\\n",
        "--o-representative-sequences analysis_for_aq_big/rep-seqs_b_bazz_acult_trimmed.qza \\\n",
        "--o-denoising-stats analysis_for_aq_big/stats-dada2_b_bazz_acult_trimmed.qza \\\n",
        "--o-table analysis_for_aq_big/table_b_bazz_acult_trimmed.qza \\\n",
        "--verbose\n",
        "\n",
        "\n",
        "#1) Filtering The filter removed all reads: /home/zooplantlab/tmp/tmpb_si4qqj/filt_f/Bianco_3EXT_S41_L001_R1_001.fastq.gz and /home/zooplantlab/tmp/tmpb_si4qqj/filt_r/Bianco_3EXT_S41_L001_R2_001.fastq.gz not written.\n",
        "#The filter removed all reads: /home/zooplantlab/tmp/tmpb_si4qqj/filt_f/TA_C_UP_3_RplusI_3_S46_L001_R1_001.fastq.gz and /home/zooplantlab/tmp/tmpb_si4qqj/filt_r/TA_C_UP_3_RplusI_3_S46_L001_R2_001.fastq.gz not written.\n",
        "#The filter removed all reads: /home/zooplantlab/tmp/tmpb_si4qqj/filt_f/TA_C_UP_3_RplusI_045minus022_S47_L001_R1_001.fastq.gz and /home/zooplantlab/tmp/tmpb_si4qqj/filt_r/TA_C_UP_3_RplusI_045minus022_S47_L001_R2_001.fastq.gz not written.\n",
        "#The filter removed all reads: /home/zooplantlab/tmp/tmpb_si4qqj/filt_f/TA_OUT_2_045minus022_S45_L001_R1_001.fastq.gz and /home/zooplantlab/tmp/tmpb_si4qqj/filt_r/TA_OUT_2_045minus022_S45_L001_R2_001.fastq.gz not written.\n",
        "#The filter removed all reads: /home/zooplantlab/tmp/tmpb_si4qqj/filt_f/WE_1_3_S42_L001_R1_001.fastq.gz and /home/zooplantlab/tmp/tmpb_si4qqj/filt_r/WE_1_3_S42_L001_R2_001.fastq.gz not written.\n",
        "#The filter removed all reads: /home/zooplantlab/tmp/tmpb_si4qqj/filt_f/WE_1_045minus022_S43_L001_R1_001.fastq.gz and /home/zooplantlab/tmp/tmpb_si4qqj/filt_r/WE_1_045minus022_S43_L001_R2_001.fastq.gz not written.\n",
        "\n",
        "# visualize\n",
        "\n",
        "qiime metadata tabulate \\\n",
        "  --m-input-file analysis_for_aq_big/stats-dada2_b_bazz_acult_trimmed.qza \\\n",
        "  --o-visualization analysis_for_aq_big/stats-dada2_b_bazz_acult_trimmed.qzv\n",
        "\n",
        "qiime feature-table tabulate-seqs \\\n",
        "  --i-data analysis_for_aq_big/rep-seqs_b_bazz_acult_trimmed.qza \\\n",
        "  --o-visualization analysis_for_aq_big/rep-seqs_b_bazz_acult_trimmed.qzv\n",
        "\n",
        "# non è cambiato molto\n",
        "# tengo il file di prima"
      ],
      "execution_count": 0,
      "outputs": []
    },
    {
      "cell_type": "code",
      "metadata": {
        "id": "qaR5Y2KwdUXN",
        "colab_type": "code",
        "colab": {}
      },
      "source": [
        "# remove sequences with lenght < 400\n",
        "\n",
        "qiime tools export --input-path rep-seqs_bazz_acult_trimmed.qza --output-path rep-seqs_bazz_acult_trimmed\n",
        "\n",
        "\n",
        "cat dna-sequences.fasta | paste - - | sed 's/>//' | awk '{ print $1,length($2) }' | sort -k2,2n > stats_seqs.tsv\n",
        "\n",
        "\n",
        "awk '{ if($2 < 400) { print }}' stats_seqs.tsv > stats_seqs_to_remove.tsv\n",
        "\n",
        "sed -i -r 's/(\\s+)?\\S+//2' stats_seqs_to_remove.tsv\n",
        "\n",
        "\n",
        "# add feature-id con nano\n",
        "\n",
        "qiime feature-table filter-features \\\n",
        "--i-table table_bazz_acult_trimmed.qza  \\\n",
        "--m-metadata-file rep-seqs_bazz_acult_trimmed/stats_seqs_to_remove.tsv \\\n",
        "--p-exclude-ids \\\n",
        "--o-filtered-table table_bazz_acult_trimmed_filtered.qza\n",
        "\n",
        "qiime feature-table filter-seqs \\\n",
        "--i-data rep-seqs_bazz_acult_trimmed.qza \\\n",
        "--m-metadata-file rep-seqs_bazz_acult_trimmed/stats_seqs_to_remove.tsv \\\n",
        "--p-exclude-ids \\\n",
        "--o-filtered-data rep-seqs_bazz_acult_trimmed_filtered.qza\n",
        "\n",
        "\n",
        "# visualization\n",
        "\n",
        "qiime feature-table tabulate-seqs \\\n",
        "  --i-data rep-seqs_bazz_acult_trimmed_filtered.qza \\\n",
        "  --o-visualization rep-seqs_bazz_acult_trimmed_filtered.qzv"
      ],
      "execution_count": 0,
      "outputs": []
    },
    {
      "cell_type": "markdown",
      "metadata": {
        "id": "ZFtvevLke4Il",
        "colab_type": "text"
      },
      "source": [
        "\n",
        "Sequence Count \\\n",
        "3926 \\\n",
        "Min Length\tMax Length\tMean Length\tRange\tStandard Deviation \\\n",
        "401\t461\t417.16\t60\t10.58\n",
        "\n",
        "\\\n",
        "Percentile:\t2%\t9%\t25%\t50%\t75%\t91%\t98% \\\n",
        "Length* (nts):\t402\t402\t404\t422\t427\t427\t428"
      ]
    },
    {
      "cell_type": "markdown",
      "metadata": {
        "id": "d8ouu0uGfIIP",
        "colab_type": "text"
      },
      "source": [
        "### Tables"
      ]
    },
    {
      "cell_type": "code",
      "metadata": {
        "id": "3wDR0ut7fJPO",
        "colab_type": "code",
        "colab": {}
      },
      "source": [
        "# visualize\n",
        "\n",
        "qiime feature-table summarize \\\n",
        "  --i-table analysis_for_aq_big/table_bazz_acult_trimmed_filtered.qza \\\n",
        "  --o-visualization analysis_for_aq_big/table_bazz_acult_trimmed_filtered.qzv \\\n",
        "  --m-sample-metadata-file baz_acult_map.tsv"
      ],
      "execution_count": 0,
      "outputs": []
    },
    {
      "cell_type": "code",
      "metadata": {
        "id": "boecv22SfeFJ",
        "colab_type": "code",
        "colab": {}
      },
      "source": [
        "# create feature-table\n",
        "\n",
        "qiime tools export --input-path table_bazz_acult_trimmed_filtered.qza --output-path table_bazz_acult_trimmed_filtered\n",
        "\n",
        "# convert biom\n",
        "\n",
        "biom convert -i feature-table.biom -o feature-table_bazz_acult_trimmed_filtered.tsv --to-tsv"
      ],
      "execution_count": 0,
      "outputs": []
    },
    {
      "cell_type": "markdown",
      "metadata": {
        "id": "KkjpxK-offeM",
        "colab_type": "text"
      },
      "source": [
        "### Taxonomy"
      ]
    },
    {
      "cell_type": "code",
      "metadata": {
        "id": "fVROCOTKfgfg",
        "colab_type": "code",
        "colab": {}
      },
      "source": [
        "# assign taxonomy silva 138 NR99 only bacteria\n",
        "\n",
        "time qiime feature-classifier classify-consensus-vsearch \\\n",
        "  --i-query rep-seqs_bazz_acult_trimmed_filtered.qza  \\\n",
        "  --i-reference-reads /home/zpl/storage/SILVA_138/Bacteria_SILVA_138_SSURef_NR99.qza \\\n",
        "  --i-reference-taxonomy /home/zpl/storage/SILVA_138/Bacteria_taxonomy_SILVA_138_SSURef_NR99.qza \\\n",
        "  --p-threads 7 \\\n",
        "  --o-classification taxonomy_vsearch_bazz_acult_trimmed_filtered.qza\n",
        "\n",
        "\n",
        "# taxabarplot\n",
        "\n",
        "qiime taxa barplot \\\n",
        "  --i-table analysis_for_aq_big/table_bazz_acult_trimmed_filtered.qza \\\n",
        "  --i-taxonomy analysis_for_aq_big/taxonomy_vsearch_bazz_acult_trimmed_filtered.qza \\\n",
        "  --m-metadata-file baz_acult_map.tsv \\\n",
        "  --o-visualization analysis_for_aq_big/taxabarplot_vsearch_bazz_acult_trimmed_filtered.qza"
      ],
      "execution_count": 0,
      "outputs": []
    },
    {
      "cell_type": "code",
      "metadata": {
        "id": "laxEYvv-f-k_",
        "colab_type": "code",
        "colab": {}
      },
      "source": [
        "# create bazzocchi taxa-table at genus level\n",
        "\n",
        "qiime taxa collapse \\\n",
        "  --i-table table_bazz_acult_trimmed_filtered.qza \\\n",
        "  --i-taxonomy taxonomy_vsearch_bazz_acult_trimmed_filtered.qza \\\n",
        "  --p-level 6 \\\n",
        "  --o-collapsed-table taxa-table_genus_bazz_acult_trimmed_filtered.qza"
      ],
      "execution_count": 0,
      "outputs": []
    },
    {
      "cell_type": "code",
      "metadata": {
        "id": "8ynWymU-uiUZ",
        "colab_type": "code",
        "colab": {}
      },
      "source": [
        "# extract taxa table\n",
        "\n",
        "qiime tools export --input-path taxa-table_genus_bazz_acult_trimmed_filtered.qza --output-path taxa-table_genus_bazz_acult_trimmed_filtered\n",
        "\n",
        "# convert biom\n",
        "\n",
        "biom convert -i feature-table.biom -o taxa-table_genus_bazz_acult_trimmed_filtered.tsv --to-tsv"
      ],
      "execution_count": 0,
      "outputs": []
    },
    {
      "cell_type": "markdown",
      "metadata": {
        "id": "P0_Fb8AtfrYz",
        "colab_type": "text"
      },
      "source": [
        "### Transfer files"
      ]
    },
    {
      "cell_type": "code",
      "metadata": {
        "id": "e1HhxWwJfwUD",
        "colab_type": "code",
        "colab": {}
      },
      "source": [
        "cp rep-seqs_bazz_acult_trimmed_filtered.qza /home/zpl/storage/aquaculture_big\n",
        "cp table_bazz_acult_trimmed_filtered.qza /home/zpl/storage/aquaculture_big\n",
        "cp taxa-table_genus_bazz_acult_trimmed_filtered.qza /home/zpl/storage/aquaculture_big\n",
        "cp taxa-table_genus_bazz_acult_trimmed_filtered.tsv /home/zpl/storage/aquaculture_big\n",
        "cp feature-table_bazz_acult_trimmed_filtered.tsv /home/zpl/storage/aquaculture_big"
      ],
      "execution_count": 0,
      "outputs": []
    },
    {
      "cell_type": "markdown",
      "metadata": {
        "id": "RnMWFs8NuARv",
        "colab_type": "text"
      },
      "source": [
        "# Merge Aquaculture Projects"
      ]
    },
    {
      "cell_type": "code",
      "metadata": {
        "id": "O-wZA--uuFjo",
        "colab_type": "code",
        "colab": {}
      },
      "source": [
        "# merge feature tables and rep seqs (without taxonomy assignment)\n",
        "# add metadata_aquaculture_big.tsv\n",
        "\n",
        "# pwd: /home/zpl/storage/aquaculture_big\n",
        "\n",
        "# AGER_BMR\n",
        "# ANTO (Hermetia)\n",
        "# ANTO (Tenebrio)\n",
        "# BAZZOCCHI\n",
        "# MYSUSHI (merge solo della taxa-table per diversità marcatore)"
      ],
      "execution_count": 0,
      "outputs": []
    },
    {
      "cell_type": "code",
      "metadata": {
        "id": "O3rE5-pTXn-P",
        "colab_type": "code",
        "colab": {}
      },
      "source": [
        "# merge tables\n",
        "\n",
        "qiime feature-table merge \\\n",
        " --i-tables table_ager_bmr_trimmed_b_filtered.qza  \\\n",
        " --i-tables table_aqtz_trimmed_b_filtered_AGER.qza \\\n",
        " --i-tables table_b_aqpl_trimmed_b_filtered_AGER.qza \\\n",
        " --i-tables table_bazz_acult_trimmed_filtered.qza \\\n",
        " --o-merged-table merged_tables/table_aquaculture_big_v3v4.qza\n",
        "\n",
        "# visualize\n",
        "\n",
        "qiime feature-table summarize \\\n",
        "  --i-table table_aquaculture_big_v3v4.qza \\\n",
        "  --o-visualization table_aquaculture_big_v3v4.qzv \\\n",
        "  --m-sample-metadata-file ~/storageBioinfoLAB/aquaculture_big/metadata_aquaculture_big_v3v4.tsv"
      ],
      "execution_count": 0,
      "outputs": []
    },
    {
      "cell_type": "markdown",
      "metadata": {
        "id": "VHLyQsUTcjj6",
        "colab_type": "text"
      },
      "source": [
        "Number of samples\t172 \\\n",
        "Number of features\t24,143 \\\n",
        "Total frequency\t15,757,796 "
      ]
    },
    {
      "cell_type": "code",
      "metadata": {
        "id": "TRf1BxgjXpWb",
        "colab_type": "code",
        "colab": {}
      },
      "source": [
        "# merge rep-seqs \n",
        "\n",
        "qiime feature-table merge-seqs \\\n",
        "--i-data repseqs_ager_bmr_trimmed_b_filtered.qza \\\n",
        "--i-data rep-seqs_aqtz_trimmed_b_filtered_AGER.qza \\\n",
        "--i-data rep-seqs_b_aqpl_trimmed_b_filtered_AGER.qza \\\n",
        "--i-data rep-seqs_bazz_acult_trimmed_filtered.qza \\\n",
        "--o-merged-data merged_tables/rep-seqs_aquaculture_big_v3v4.qza\n",
        "\n",
        "# visualize\n",
        "qiime feature-table tabulate-seqs \\\n",
        "--i-data rep-seqs_aquaculture_big_v3v4.qza \\\n",
        "--o-visualization rep-seqs_aquaculture_big_v3v4.qzv"
      ],
      "execution_count": 0,
      "outputs": []
    },
    {
      "cell_type": "markdown",
      "metadata": {
        "id": "PoOV6GeZcXpi",
        "colab_type": "text"
      },
      "source": [
        "\n",
        "Sequence Count \\\n",
        "24143 \\\n",
        "\tMin Length\tMax Length\tMean Length\tRange\tStandard Deviation \\\n",
        "400\t489\t418.56\t89\t11.66"
      ]
    },
    {
      "cell_type": "markdown",
      "metadata": {
        "id": "gogMW4EvcdCG",
        "colab_type": "text"
      },
      "source": [
        "\n",
        "Percentile:\t2%\t9%\t25%\t50%\t75%\t91%\t98% \\\n",
        "Length* (nts):\t402\t402\t405\t422\t427\t428\t429"
      ]
    },
    {
      "cell_type": "code",
      "metadata": {
        "id": "cVgX15tlRml9",
        "colab_type": "code",
        "colab": {}
      },
      "source": [
        "# taxonomy tables\n",
        "\n",
        "qiime feature-table merge \\\n",
        "--i-tables taxa-table_genus_ager_bmr_trimmed_b.qza \\\n",
        "--i-tables taxa-table_genus_aqtz_trimmed_b_filtered_AGER.qza \\\n",
        "--i-tables taxa-table_genus_b_aqpl_trimmed_b_filtered_AGER.qza \\\n",
        "--i-tables taxa-table_genus_bazz_acult_trimmed_filtered.qza \\\n",
        "--o-merged-table merged_tables/taxa-table_aquaculture_big_v3v4.qza\n",
        "\n",
        "# visualize\n",
        "\n",
        "qiime feature-table summarize \\\n",
        "  --i-table taxa-table_aquaculture_big_v3v4.qza \\\n",
        "  --o-visualization taxa-table_aquaculture_big_v3v4.qzv \\\n",
        "  --m-sample-metadata-file ~/storageBioinfoLAB/aquaculture_big/metadata_aquaculture_big_v3v4.tsv"
      ],
      "execution_count": 0,
      "outputs": []
    },
    {
      "cell_type": "code",
      "metadata": {
        "id": "ckCx0uYlU6Ma",
        "colab_type": "code",
        "colab": {}
      },
      "source": [
        "# taxonomy_vsearch_bazz_acult_trimmed_filtered.qza\n",
        "# taxonomy_vsearch_aqtz_trimmed_b_filtered.qza\n",
        "# taxonomy_vsearch_ager_bmr_trimmed_b.qza\n",
        "# taxonomy_vsearch_b_aqpl_trimmed_b_filtered.qza\n",
        "\n",
        "# merge taxonomy\n",
        "\n",
        "qiime feature-table merge-taxa \\\n",
        "--i-data ~/storageBioinfoLAB/Proj_1008_16S/raw_file_Pr1008/bazzocchi_raw/results_baz_acult/analysis_for_aq_big/taxonomy_vsearch_bazz_acult_trimmed_filtered.qza \\\n",
        "--i-data ~/storageBioinfoLAB/anto_aquaculture/files/analysis_for_aq_big/taxonomy_vsearch_aqtz_trimmed_b_filtered.qza \\\n",
        "--i-data ~/storageBioinfoLAB/anto_aquaculture/Ager_bmr_analysis/taxonomy_vsearch_ager_bmr_trimmed_b.qza \\\n",
        "--i-data ~/storageBioinfoLAB/AntoniaB_1128_16S/analysis_for_aq_big/taxonomy_vsearch_b_aqpl_trimmed_b_filtered.qza \\\n",
        "--o-merged-data taxonomy_aquaculture_big_v3v4.qza\n",
        "\n",
        "\n",
        "# visualize\n",
        "qiime metadata tabulate \\\n",
        "  –-m-input-file taxonomy_aquaculture_big_v3v4.qza \\\n",
        "  --o-visualization taxonomy_aquaculture_big_v3v4.qzv \n",
        "\n",
        "\n",
        "# taxa bar plot\n",
        "\n",
        "qiime taxa barplot \\\n",
        "  --i-table table_aquaculture_big_v3v4.qza \\\n",
        "  --i-taxonomy taxonomy_aquaculture_big_v3v4.qza \\\n",
        "  --m-metadata-file ~/storageBioinfoLAB/aquaculture_big/metadata_aquaculture_big_v3v4.tsv \\\n",
        "  --o-visualization taxabarplot_aquaculture_big_v3v4.qzv\n"
      ],
      "execution_count": 0,
      "outputs": []
    },
    {
      "cell_type": "markdown",
      "metadata": {
        "id": "EoXK0AcWavdE",
        "colab_type": "text"
      },
      "source": [
        "## Diversity analysis"
      ]
    },
    {
      "cell_type": "code",
      "metadata": {
        "id": "xFL-3wuhauGX",
        "colab_type": "code",
        "colab": {}
      },
      "source": [
        "# diversity\n",
        "#### scaricare le pcoa per Anto\n",
        "\n",
        "\n",
        "\n",
        "qiime diversity core-metrics \\\n",
        "  --i-table table_aquaculture_big_v3v4.qza \\\n",
        "  --p-sampling-depth 14000\\\n",
        "  --m-metadata-file /home/groot/storageBioinfoLAB/aquaculture_big/metadata_aquaculture_big_v3v4.tsv \\\n",
        "  --output-dir div_14k_table_aquaculture_big_v3v4\n",
        "\n",
        "# scp\n",
        "\n",
        "scp groot@10.99.226.162:~/storageBioinfoLAB/aquaculture_big/merged_tables/div_14k_table_aquaculture_big_v3v4/jaccard_emperor.qzv ~/Documents/PHD/aquaculture_big/div_14k_table_aquaculture_big_v3v4\n",
        "\n",
        "scp groot@10.99.226.162:~/storageBioinfoLAB/aquaculture_big/merged_tables/div_14k_table_aquaculture_big_v3v4/bray_curtis_emperor.qzv ~/Documents/PHD/aquaculture_big/div_14k_table_aquaculture_big_v3v4"
      ],
      "execution_count": 0,
      "outputs": []
    },
    {
      "cell_type": "code",
      "metadata": {
        "id": "z-Ymd9ZSfjiy",
        "colab_type": "code",
        "colab": {}
      },
      "source": [
        "# diversity per genus\n",
        "#### scaricare le pcoa per Anto\n",
        "\n",
        "qiime diversity core-metrics \\\n",
        "  --i-table taxa-table_aquaculture_big_v3v4.qza \\\n",
        "  --p-sampling-depth 14000\\\n",
        "  --m-metadata-file /home/groot/storageBioinfoLAB/aquaculture_big/metadata_aquaculture_big_v3v4.tsv \\\n",
        "  --output-dir div_14k_taxa_table_aquaculture_big_v3v4"
      ],
      "execution_count": 0,
      "outputs": []
    },
    {
      "cell_type": "markdown",
      "metadata": {
        "id": "Hey240oyWlf3",
        "colab_type": "text"
      },
      "source": [
        "##check midichloria sequence\n",
        "\n",
        "16SmidiFish_RTF\t5'- GCGGTTATCTGGGCAGTC -3'\n",
        "\n",
        "16SmidiFish_RTR    5'- TGCGACACCGAAACCTAAG -3'\n",
        " \n",
        "L'accession number dell'unica sequenza di MLO che avevamo disponibile in precedenza è quella pubblicata da Lloyd et al. (2008): EU555284. Blastando la sequenza ottenuta dai colleghi di Pisa, si ottiene un'identità del 98% rispetto alla sequenza della MLO del paper della Lloyd\n",
        "\n",
        "\n",
        "\n",
        "> mlo SEQUENZA ASSEMBLATA\n",
        "AGGTGAAAGATTTATCGTTCCAAGACGAGCCCATGCAAGATTAGTTAGTTGGTAAGGTAATTGCTTACCAAGGCAACGATCTTTAGTTGGTCTGAGAGGATGATCAGCCACACTGGAACTGAGACACGTTCCAGATTCTTACGGGAGGCACCAGTGGGGAATATTGGACAATGGGCGCAAGCCTGATCCAGCGACGCCGCGTGAGTGATGAAGCCCTTAGGGTTGTAAAGCTCTTTTAGTGGGGAAGATAATGACGGTACCCACAGAAAAAGCCCCGGCTAACTTCGTGCCANCAGCCGCGGTAATACGAAGGGGGCTAGCATTACTCGGAATTATTGGGCGTAAAGCGTGCGTAGGCTGCTTAGCAAGTCAGAAGTGAAATCCTTGGGCTCAACCCAAGAACTGCTTTTGAAACTGCTAAGCTTGAGTACTGTAGAGGATAGCGGAATTCCTAGTGTAGAGGTGAAATTCGTAGATATTAGGAGGAACACCGGAGGCGAAGGCGGTTATCTGGGCAGTCACTGACGCTGTTGCACGAAAGCGTGGGGAGCAAACAGGATTAGATACCCTGGTAGTCCACGCA\n",
        "GTAAACGATGAGTGCTAGATGTCGGGACTTAGGTTTCGGTGTCGCAGCTAACGCATTAAGCACTCCGCCTGGGGAGTACGACCGCAAGGTTAAAACTCAAAGGAATTGACGGGGACCCGCACAAGCGGTGGAACATGTGGTTTAATTCGATGCTACGCGAAAAACCTTACCAGGCCTTGACATGGTGATCGTATGACTGTGAAAGCAGTTAGTCGGTTCGGCCGGATCATCACAGGTGTTGCATGGCTGTCGTCAGCTCGTGTCGTGAGATGTTGGGTTAAGTCCCGCAACGAGCGCAACCCTCATCCTTAGTTGCCAGCGAGTAATGTCGGGAACTTTAAGGAAACTGCCGGTGATAAGCCGGAAGAAGGTGGGGATGACGTCCAGTCAGCATGGCCCTTACGGCCTGGGCTACACACGTGTTA\n"
      ]
    },
    {
      "cell_type": "code",
      "metadata": {
        "id": "X5Fc5vmiWelm",
        "colab_type": "code",
        "colab": {}
      },
      "source": [
        "\n",
        "#all sequence acquaculture\n",
        "\n",
        "qiime tools export rep-seqs_aquaculture_big_v3v4.qza --output-path ref_seq_fasta_aquaculture_big_v3v4/\n",
        "\n",
        "#create rep-seqs_aquaculture_big_v3v4.fa \n",
        "\n",
        "mkdir blast_midi\n",
        "\n",
        "makeblastdb -in rep-seqs_aquaculture_big_v3v4.fa  -dbtype nucl -out blast_midi\n",
        "#Adding sequences from FASTA; added 24143 sequences in 0.532795 seconds.\n",
        "\n",
        "blastn -db db/blast_midi -query MLO_assemblata_1008pb.fasta > results_midi.txt\n"
      ],
      "execution_count": 0,
      "outputs": []
    }
  ]
}